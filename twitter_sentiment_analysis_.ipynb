{
 "cells": [
  {
   "cell_type": "markdown",
   "metadata": {},
   "source": [
    "## Business Problem \n",
    "### The objective of this task is to detect hate speech in tweets. For the sake of simplicity, we say a tweet contains hate speech if it has a racist or sexist sentiment associated with it. So, the task is to classify racist or sexist tweets from other tweets.\n",
    "### Formally, given a training sample of tweets and labels, where label '1' denotes the tweet is racist/sexist and label '0' denotes the tweet is not racist/sexist, your objective is to predict the labels on the test dataset.\n",
    "### Our overall collection of tweets was split in the ratio of 65:35 into training and testing data. Out of the testing data, 30% is public and the rest is private."
   ]
  },
  {
   "cell_type": "code",
   "execution_count": 1,
   "metadata": {
    "colab": {
     "base_uri": "https://localhost:8080/"
    },
    "id": "a7Oy0yJbS38f",
    "outputId": "63b86a85-b5b0-468f-e59c-a721b70d6c5e"
   },
   "outputs": [
    {
     "name": "stdout",
     "output_type": "stream",
     "text": [
      "[nltk_data] Downloading package stopwords to /root/nltk_data...\n",
      "[nltk_data]   Unzipping corpora/stopwords.zip.\n",
      "[nltk_data] Downloading package wordnet to /root/nltk_data...\n",
      "[nltk_data]   Unzipping corpora/wordnet.zip.\n"
     ]
    },
    {
     "data": {
      "text/plain": [
       "True"
      ]
     },
     "execution_count": 1,
     "metadata": {
      "tags": []
     },
     "output_type": "execute_result"
    }
   ],
   "source": [
    "import pandas as pd \n",
    "import numpy as np\n",
    "%matplotlib inline\n",
    "from matplotlib import pyplot as plt \n",
    "import seaborn as sns \n",
    "import nltk \n",
    "import warnings \n",
    "warnings.filterwarnings(\"ignore\", category=DeprecationWarning)\n",
    "pd.set_option('display.max_colwidth',None)\n",
    "import re\n",
    "nltk.download('stopwords')\n",
    "nltk.download('wordnet')"
   ]
  },
  {
   "cell_type": "code",
   "execution_count": 2,
   "metadata": {
    "id": "l5tz50s7S38r"
   },
   "outputs": [],
   "source": [
    "## reading the files \n",
    "train=pd.read_csv('train_E6oV3lV.csv')\n",
    "test=pd.read_csv('test_tweets_anuFYb8.csv')"
   ]
  },
  {
   "cell_type": "code",
   "execution_count": 3,
   "metadata": {
    "colab": {
     "base_uri": "https://localhost:8080/",
     "height": 191
    },
    "id": "ekF3y04nS38s",
    "outputId": "99170294-b6eb-479c-c99b-b5283c74fdf9"
   },
   "outputs": [
    {
     "data": {
      "text/html": [
       "<div>\n",
       "<style scoped>\n",
       "    .dataframe tbody tr th:only-of-type {\n",
       "        vertical-align: middle;\n",
       "    }\n",
       "\n",
       "    .dataframe tbody tr th {\n",
       "        vertical-align: top;\n",
       "    }\n",
       "\n",
       "    .dataframe thead th {\n",
       "        text-align: right;\n",
       "    }\n",
       "</style>\n",
       "<table border=\"1\" class=\"dataframe\">\n",
       "  <thead>\n",
       "    <tr style=\"text-align: right;\">\n",
       "      <th></th>\n",
       "      <th>id</th>\n",
       "      <th>label</th>\n",
       "      <th>tweet</th>\n",
       "    </tr>\n",
       "  </thead>\n",
       "  <tbody>\n",
       "    <tr>\n",
       "      <th>0</th>\n",
       "      <td>1</td>\n",
       "      <td>0</td>\n",
       "      <td>@user when a father is dysfunctional and is so selfish he drags his kids into his dysfunction.   #run</td>\n",
       "    </tr>\n",
       "    <tr>\n",
       "      <th>1</th>\n",
       "      <td>2</td>\n",
       "      <td>0</td>\n",
       "      <td>@user @user thanks for #lyft credit i can't use cause they don't offer wheelchair vans in pdx.    #disapointed #getthanked</td>\n",
       "    </tr>\n",
       "    <tr>\n",
       "      <th>2</th>\n",
       "      <td>3</td>\n",
       "      <td>0</td>\n",
       "      <td>bihday your majesty</td>\n",
       "    </tr>\n",
       "    <tr>\n",
       "      <th>3</th>\n",
       "      <td>4</td>\n",
       "      <td>0</td>\n",
       "      <td>#model   i love u take with u all the time in urð±!!! ðððð",
       "ð¦ð¦ð¦</td>\n",
       "    </tr>\n",
       "    <tr>\n",
       "      <th>4</th>\n",
       "      <td>5</td>\n",
       "      <td>0</td>\n",
       "      <td>factsguide: society now    #motivation</td>\n",
       "    </tr>\n",
       "  </tbody>\n",
       "</table>\n",
       "</div>"
      ],
      "text/plain": [
       "   id  ...                                                                                                                       tweet\n",
       "0   1  ...                       @user when a father is dysfunctional and is so selfish he drags his kids into his dysfunction.   #run\n",
       "1   2  ...  @user @user thanks for #lyft credit i can't use cause they don't offer wheelchair vans in pdx.    #disapointed #getthanked\n",
       "2   3  ...                                                                                                         bihday your majesty\n",
       "3   4  ...                                      #model   i love u take with u all the time in urð±!!! ðððð\n",
       "ð¦ð¦ð¦  \n",
       "4   5  ...                                                                                      factsguide: society now    #motivation\n",
       "\n",
       "[5 rows x 3 columns]"
      ]
     },
     "execution_count": 3,
     "metadata": {
      "tags": []
     },
     "output_type": "execute_result"
    }
   ],
   "source": [
    "train.head()"
   ]
  },
  {
   "cell_type": "code",
   "execution_count": 4,
   "metadata": {
    "colab": {
     "base_uri": "https://localhost:8080/",
     "height": 391
    },
    "id": "5sIcFWiZS38u",
    "outputId": "6d7f472b-32f8-4f8d-ddad-3fdfd7d50958"
   },
   "outputs": [
    {
     "data": {
      "text/html": [
       "<div>\n",
       "<style scoped>\n",
       "    .dataframe tbody tr th:only-of-type {\n",
       "        vertical-align: middle;\n",
       "    }\n",
       "\n",
       "    .dataframe tbody tr th {\n",
       "        vertical-align: top;\n",
       "    }\n",
       "\n",
       "    .dataframe thead th {\n",
       "        text-align: right;\n",
       "    }\n",
       "</style>\n",
       "<table border=\"1\" class=\"dataframe\">\n",
       "  <thead>\n",
       "    <tr style=\"text-align: right;\">\n",
       "      <th></th>\n",
       "      <th>id</th>\n",
       "      <th>tweet</th>\n",
       "    </tr>\n",
       "  </thead>\n",
       "  <tbody>\n",
       "    <tr>\n",
       "      <th>0</th>\n",
       "      <td>31963</td>\n",
       "      <td>#studiolife #aislife #requires #passion #dedication #willpower   to find #newmaterialsâ¦</td>\n",
       "    </tr>\n",
       "    <tr>\n",
       "      <th>1</th>\n",
       "      <td>31964</td>\n",
       "      <td>@user #white #supremacists want everyone to see the new â  #birdsâ #movie â and hereâs why</td>\n",
       "    </tr>\n",
       "    <tr>\n",
       "      <th>2</th>\n",
       "      <td>31965</td>\n",
       "      <td>safe ways to heal your #acne!!    #altwaystoheal #healthy   #healing!!</td>\n",
       "    </tr>\n",
       "    <tr>\n",
       "      <th>3</th>\n",
       "      <td>31966</td>\n",
       "      <td>is the hp and the cursed child book up for reservations already? if yes, where? if no, when? ððð   #harrypotter #pottermore #favorite</td>\n",
       "    </tr>\n",
       "    <tr>\n",
       "      <th>4</th>\n",
       "      <td>31967</td>\n",
       "      <td>3rd #bihday to my amazing, hilarious #nephew eli ahmir! uncle dave loves you and missesâ¦</td>\n",
       "    </tr>\n",
       "    <tr>\n",
       "      <th>...</th>\n",
       "      <td>...</td>\n",
       "      <td>...</td>\n",
       "    </tr>\n",
       "    <tr>\n",
       "      <th>17192</th>\n",
       "      <td>49155</td>\n",
       "      <td>thought factory: left-right polarisation! #trump #uselections2016 #leadership #politics  #brexit #blm &amp;gt;3</td>\n",
       "    </tr>\n",
       "    <tr>\n",
       "      <th>17193</th>\n",
       "      <td>49156</td>\n",
       "      <td>feeling like a mermaid ð #hairflip #neverready #formal #wedding #gown #dresses #mermaid  â¦</td>\n",
       "    </tr>\n",
       "    <tr>\n",
       "      <th>17194</th>\n",
       "      <td>49157</td>\n",
       "      <td>#hillary #campaigned today in #ohio((omg)) &amp;amp; used words like \"assets&amp;amp;liability\" never once did #clinton say thee(word) #radicalization</td>\n",
       "    </tr>\n",
       "    <tr>\n",
       "      <th>17195</th>\n",
       "      <td>49158</td>\n",
       "      <td>happy, at work conference: right mindset leads to culture-of-development organizations    #work #mindset</td>\n",
       "    </tr>\n",
       "    <tr>\n",
       "      <th>17196</th>\n",
       "      <td>49159</td>\n",
       "      <td>my   song \"so glad\" free download!  #shoegaze #newmusic #newsong</td>\n",
       "    </tr>\n",
       "  </tbody>\n",
       "</table>\n",
       "<p>17197 rows × 2 columns</p>\n",
       "</div>"
      ],
      "text/plain": [
       "          id                                                                                                                                              tweet\n",
       "0      31963                                                         #studiolife #aislife #requires #passion #dedication #willpower   to find #newmaterialsâ¦ \n",
       "1      31964                                               @user #white #supremacists want everyone to see the new â  #birdsâ #movie â and hereâs why  \n",
       "2      31965                                                                            safe ways to heal your #acne!!    #altwaystoheal #healthy   #healing!! \n",
       "3      31966     is the hp and the cursed child book up for reservations already? if yes, where? if no, when? ððð   #harrypotter #pottermore #favorite\n",
       "4      31967                                                        3rd #bihday to my amazing, hilarious #nephew eli ahmir! uncle dave loves you and missesâ¦ \n",
       "...      ...                                                                                                                                                ...\n",
       "17192  49155                                       thought factory: left-right polarisation! #trump #uselections2016 #leadership #politics  #brexit #blm &gt;3 \n",
       "17193  49156                                                   feeling like a mermaid ð #hairflip #neverready #formal #wedding #gown #dresses #mermaid  â¦ \n",
       "17194  49157  #hillary #campaigned today in #ohio((omg)) &amp; used words like \"assets&amp;liability\" never once did #clinton say thee(word) #radicalization   \n",
       "17195  49158                                           happy, at work conference: right mindset leads to culture-of-development organizations    #work #mindset\n",
       "17196  49159                                                                                   my   song \"so glad\" free download!  #shoegaze #newmusic #newsong\n",
       "\n",
       "[17197 rows x 2 columns]"
      ]
     },
     "execution_count": 4,
     "metadata": {
      "tags": []
     },
     "output_type": "execute_result"
    }
   ],
   "source": [
    "test"
   ]
  },
  {
   "cell_type": "code",
   "execution_count": 5,
   "metadata": {
    "colab": {
     "base_uri": "https://localhost:8080/"
    },
    "id": "JORJcJEgS38v",
    "outputId": "0782d088-c096-4209-8fcc-779e04184829"
   },
   "outputs": [
    {
     "name": "stdout",
     "output_type": "stream",
     "text": [
      "<class 'pandas.core.frame.DataFrame'>\n",
      "RangeIndex: 31962 entries, 0 to 31961\n",
      "Data columns (total 3 columns):\n",
      " #   Column  Non-Null Count  Dtype \n",
      "---  ------  --------------  ----- \n",
      " 0   id      31962 non-null  int64 \n",
      " 1   label   31962 non-null  int64 \n",
      " 2   tweet   31962 non-null  object\n",
      "dtypes: int64(2), object(1)\n",
      "memory usage: 749.2+ KB\n"
     ]
    }
   ],
   "source": [
    "train.info()"
   ]
  },
  {
   "cell_type": "code",
   "execution_count": 6,
   "metadata": {
    "colab": {
     "base_uri": "https://localhost:8080/",
     "height": 295
    },
    "id": "zlGUxxWfS38v",
    "outputId": "7439ea6c-8ea2-4d03-9d5a-3afe6aa036e8"
   },
   "outputs": [
    {
     "data": {
      "text/plain": [
       "<matplotlib.axes._subplots.AxesSubplot at 0x7efc3dc9e910>"
      ]
     },
     "execution_count": 6,
     "metadata": {
      "tags": []
     },
     "output_type": "execute_result"
    },
    {
     "data": {
      "image/png": "[encoded data removed]",
      "text/plain": [
       "<Figure size 432x288 with 1 Axes>"
      ]
     },
     "metadata": {
      "needs_background": "light",
      "tags": []
     },
     "output_type": "display_data"
    }
   ],
   "source": [
    "sns.countplot(x='label',data=train)"
   ]
  },
  {
   "cell_type": "markdown",
   "metadata": {
    "id": "PbjEZbFQS38w"
   },
   "source": [
    "## Tweets Preprocessing and Cleaning"
   ]
  },
  {
   "cell_type": "code",
   "execution_count": 7,
   "metadata": {
    "id": "Af-8nxB7S38x"
   },
   "outputs": [],
   "source": [
    "\n",
    "def remove_pattern(input_txt, pattern):\n",
    "    r = re.findall(pattern, input_txt)\n",
    "    for i in r:\n",
    "        input_txt = re.sub(i, '', input_txt)\n",
    "        \n",
    "    return input_txt    "
   ]
  },
  {
   "cell_type": "code",
   "execution_count": 8,
   "metadata": {
    "id": "2Vovb_nYS38x"
   },
   "outputs": [],
   "source": [
    "# removing @user from data \n",
    "train['tidy_tweet'] = np.vectorize(remove_pattern)(train['tweet'], \"@[\\w]*\")"
   ]
  },
  {
   "cell_type": "code",
   "execution_count": 9,
   "metadata": {
    "id": "9tO0ZH3RS38y"
   },
   "outputs": [],
   "source": [
    "# removing unnecesary words and symbols\n",
    "train['tidy_tweet'] = train['tidy_tweet'].str.replace(\"[^a-zA-Z#]\", \" \")"
   ]
  },
  {
   "cell_type": "code",
   "execution_count": 10,
   "metadata": {
    "colab": {
     "base_uri": "https://localhost:8080/",
     "height": 472
    },
    "id": "ZpsZNFIhS38y",
    "outputId": "1444523e-3ca7-4b8c-cc6b-f5585d295b69"
   },
   "outputs": [
    {
     "data": {
      "text/html": [
       "<div>\n",
       "<style scoped>\n",
       "    .dataframe tbody tr th:only-of-type {\n",
       "        vertical-align: middle;\n",
       "    }\n",
       "\n",
       "    .dataframe tbody tr th {\n",
       "        vertical-align: top;\n",
       "    }\n",
       "\n",
       "    .dataframe thead th {\n",
       "        text-align: right;\n",
       "    }\n",
       "</style>\n",
       "<table border=\"1\" class=\"dataframe\">\n",
       "  <thead>\n",
       "    <tr style=\"text-align: right;\">\n",
       "      <th></th>\n",
       "      <th>id</th>\n",
       "      <th>label</th>\n",
       "      <th>tweet</th>\n",
       "      <th>tidy_tweet</th>\n",
       "    </tr>\n",
       "  </thead>\n",
       "  <tbody>\n",
       "    <tr>\n",
       "      <th>0</th>\n",
       "      <td>1</td>\n",
       "      <td>0</td>\n",
       "      <td>@user when a father is dysfunctional and is so selfish he drags his kids into his dysfunction.   #run</td>\n",
       "      <td>when a father is dysfunctional and is so selfish he drags his kids into his dysfunction    #run</td>\n",
       "    </tr>\n",
       "    <tr>\n",
       "      <th>1</th>\n",
       "      <td>2</td>\n",
       "      <td>0</td>\n",
       "      <td>@user @user thanks for #lyft credit i can't use cause they don't offer wheelchair vans in pdx.    #disapointed #getthanked</td>\n",
       "      <td>thanks for #lyft credit i can t use cause they don t offer wheelchair vans in pdx     #disapointed #getthanked</td>\n",
       "    </tr>\n",
       "    <tr>\n",
       "      <th>2</th>\n",
       "      <td>3</td>\n",
       "      <td>0</td>\n",
       "      <td>bihday your majesty</td>\n",
       "      <td>bihday your majesty</td>\n",
       "    </tr>\n",
       "    <tr>\n",
       "      <th>3</th>\n",
       "      <td>4</td>\n",
       "      <td>0</td>\n",
       "      <td>#model   i love u take with u all the time in urð±!!! ðððð",
       "ð¦ð¦ð¦</td>\n",
       "      <td>#model   i love u take with u all the time in ur</td>\n",
       "    </tr>\n",
       "    <tr>\n",
       "      <th>4</th>\n",
       "      <td>5</td>\n",
       "      <td>0</td>\n",
       "      <td>factsguide: society now    #motivation</td>\n",
       "      <td>factsguide  society now    #motivation</td>\n",
       "    </tr>\n",
       "    <tr>\n",
       "      <th>...</th>\n",
       "      <td>...</td>\n",
       "      <td>...</td>\n",
       "      <td>...</td>\n",
       "      <td>...</td>\n",
       "    </tr>\n",
       "    <tr>\n",
       "      <th>31957</th>\n",
       "      <td>31958</td>\n",
       "      <td>0</td>\n",
       "      <td>ate @user isz that youuu?ðððððððððâ¤ï¸</td>\n",
       "      <td>ate  isz that youuu</td>\n",
       "    </tr>\n",
       "    <tr>\n",
       "      <th>31958</th>\n",
       "      <td>31959</td>\n",
       "      <td>0</td>\n",
       "      <td>to see nina turner on the airwaves trying to wrap herself in the mantle of a genuine hero like shirley chisolm. #shame #imwithher</td>\n",
       "      <td>to see nina turner on the airwaves trying to wrap herself in the mantle of a genuine hero like shirley chisolm  #shame #imwithher</td>\n",
       "    </tr>\n",
       "    <tr>\n",
       "      <th>31959</th>\n",
       "      <td>31960</td>\n",
       "      <td>0</td>\n",
       "      <td>listening to sad songs on a monday morning otw to work is sad</td>\n",
       "      <td>listening to sad songs on a monday morning otw to work is sad</td>\n",
       "    </tr>\n",
       "    <tr>\n",
       "      <th>31960</th>\n",
       "      <td>31961</td>\n",
       "      <td>1</td>\n",
       "      <td>@user #sikh #temple vandalised in in #calgary, #wso condemns  act</td>\n",
       "      <td>#sikh #temple vandalised in in #calgary  #wso condemns  act</td>\n",
       "    </tr>\n",
       "    <tr>\n",
       "      <th>31961</th>\n",
       "      <td>31962</td>\n",
       "      <td>0</td>\n",
       "      <td>thank you @user for you follow</td>\n",
       "      <td>thank you  for you follow</td>\n",
       "    </tr>\n",
       "  </tbody>\n",
       "</table>\n",
       "<p>31962 rows × 4 columns</p>\n",
       "</div>"
      ],
      "text/plain": [
       "          id  ...                                                                                                                           tidy_tweet\n",
       "0          1  ...                                      when a father is dysfunctional and is so selfish he drags his kids into his dysfunction    #run\n",
       "1          2  ...                       thanks for #lyft credit i can t use cause they don t offer wheelchair vans in pdx     #disapointed #getthanked\n",
       "2          3  ...                                                                                                                  bihday your majesty\n",
       "3          4  ...                                               #model   i love u take with u all the time in ur                                      \n",
       "4          5  ...                                                                                               factsguide  society now    #motivation\n",
       "...      ...  ...                                                                                                                                  ...\n",
       "31957  31958  ...                                                                      ate  isz that youuu                                            \n",
       "31958  31959  ...    to see nina turner on the airwaves trying to wrap herself in the mantle of a genuine hero like shirley chisolm  #shame #imwithher\n",
       "31959  31960  ...                                                                      listening to sad songs on a monday morning otw to work is sad  \n",
       "31960  31961  ...                                                                        #sikh #temple vandalised in in #calgary  #wso condemns  act  \n",
       "31961  31962  ...                                                                                                          thank you  for you follow  \n",
       "\n",
       "[31962 rows x 4 columns]"
      ]
     },
     "execution_count": 10,
     "metadata": {
      "tags": []
     },
     "output_type": "execute_result"
    }
   ],
   "source": [
    "train"
   ]
  },
  {
   "cell_type": "code",
   "execution_count": 11,
   "metadata": {
    "id": "7A9RWsRqS38z"
   },
   "outputs": [],
   "source": [
    "## Remove the words whose length is less than 3 characters\n",
    "train['tidy_tweet'] = train['tidy_tweet'].apply(lambda x: ' '.join([w for w in x.split() if len(w)>3]))"
   ]
  },
  {
   "cell_type": "code",
   "execution_count": 12,
   "metadata": {
    "colab": {
     "base_uri": "https://localhost:8080/",
     "height": 423
    },
    "id": "OlNFRx38S380",
    "outputId": "d4ac0db3-ee29-4c17-c28e-63391251247a"
   },
   "outputs": [
    {
     "data": {
      "text/html": [
       "<div>\n",
       "<style scoped>\n",
       "    .dataframe tbody tr th:only-of-type {\n",
       "        vertical-align: middle;\n",
       "    }\n",
       "\n",
       "    .dataframe tbody tr th {\n",
       "        vertical-align: top;\n",
       "    }\n",
       "\n",
       "    .dataframe thead th {\n",
       "        text-align: right;\n",
       "    }\n",
       "</style>\n",
       "<table border=\"1\" class=\"dataframe\">\n",
       "  <thead>\n",
       "    <tr style=\"text-align: right;\">\n",
       "      <th></th>\n",
       "      <th>id</th>\n",
       "      <th>label</th>\n",
       "      <th>tweet</th>\n",
       "      <th>tidy_tweet</th>\n",
       "    </tr>\n",
       "  </thead>\n",
       "  <tbody>\n",
       "    <tr>\n",
       "      <th>0</th>\n",
       "      <td>1</td>\n",
       "      <td>0</td>\n",
       "      <td>@user when a father is dysfunctional and is so selfish he drags his kids into his dysfunction.   #run</td>\n",
       "      <td>when father dysfunctional selfish drags kids into dysfunction #run</td>\n",
       "    </tr>\n",
       "    <tr>\n",
       "      <th>1</th>\n",
       "      <td>2</td>\n",
       "      <td>0</td>\n",
       "      <td>@user @user thanks for #lyft credit i can't use cause they don't offer wheelchair vans in pdx.    #disapointed #getthanked</td>\n",
       "      <td>thanks #lyft credit cause they offer wheelchair vans #disapointed #getthanked</td>\n",
       "    </tr>\n",
       "    <tr>\n",
       "      <th>2</th>\n",
       "      <td>3</td>\n",
       "      <td>0</td>\n",
       "      <td>bihday your majesty</td>\n",
       "      <td>bihday your majesty</td>\n",
       "    </tr>\n",
       "    <tr>\n",
       "      <th>3</th>\n",
       "      <td>4</td>\n",
       "      <td>0</td>\n",
       "      <td>#model   i love u take with u all the time in urð±!!! ðððð",
       "ð¦ð¦ð¦</td>\n",
       "      <td>#model love take with time</td>\n",
       "    </tr>\n",
       "    <tr>\n",
       "      <th>4</th>\n",
       "      <td>5</td>\n",
       "      <td>0</td>\n",
       "      <td>factsguide: society now    #motivation</td>\n",
       "      <td>factsguide society #motivation</td>\n",
       "    </tr>\n",
       "    <tr>\n",
       "      <th>...</th>\n",
       "      <td>...</td>\n",
       "      <td>...</td>\n",
       "      <td>...</td>\n",
       "      <td>...</td>\n",
       "    </tr>\n",
       "    <tr>\n",
       "      <th>31957</th>\n",
       "      <td>31958</td>\n",
       "      <td>0</td>\n",
       "      <td>ate @user isz that youuu?ðððððððððâ¤ï¸</td>\n",
       "      <td>that youuu</td>\n",
       "    </tr>\n",
       "    <tr>\n",
       "      <th>31958</th>\n",
       "      <td>31959</td>\n",
       "      <td>0</td>\n",
       "      <td>to see nina turner on the airwaves trying to wrap herself in the mantle of a genuine hero like shirley chisolm. #shame #imwithher</td>\n",
       "      <td>nina turner airwaves trying wrap herself mantle genuine hero like shirley chisolm #shame #imwithher</td>\n",
       "    </tr>\n",
       "    <tr>\n",
       "      <th>31959</th>\n",
       "      <td>31960</td>\n",
       "      <td>0</td>\n",
       "      <td>listening to sad songs on a monday morning otw to work is sad</td>\n",
       "      <td>listening songs monday morning work</td>\n",
       "    </tr>\n",
       "    <tr>\n",
       "      <th>31960</th>\n",
       "      <td>31961</td>\n",
       "      <td>1</td>\n",
       "      <td>@user #sikh #temple vandalised in in #calgary, #wso condemns  act</td>\n",
       "      <td>#sikh #temple vandalised #calgary #wso condemns</td>\n",
       "    </tr>\n",
       "    <tr>\n",
       "      <th>31961</th>\n",
       "      <td>31962</td>\n",
       "      <td>0</td>\n",
       "      <td>thank you @user for you follow</td>\n",
       "      <td>thank follow</td>\n",
       "    </tr>\n",
       "  </tbody>\n",
       "</table>\n",
       "<p>31962 rows × 4 columns</p>\n",
       "</div>"
      ],
      "text/plain": [
       "          id  ...                                                                                           tidy_tweet\n",
       "0          1  ...                                   when father dysfunctional selfish drags kids into dysfunction #run\n",
       "1          2  ...                        thanks #lyft credit cause they offer wheelchair vans #disapointed #getthanked\n",
       "2          3  ...                                                                                  bihday your majesty\n",
       "3          4  ...                                                                           #model love take with time\n",
       "4          5  ...                                                                       factsguide society #motivation\n",
       "...      ...  ...                                                                                                  ...\n",
       "31957  31958  ...                                                                                           that youuu\n",
       "31958  31959  ...  nina turner airwaves trying wrap herself mantle genuine hero like shirley chisolm #shame #imwithher\n",
       "31959  31960  ...                                                                  listening songs monday morning work\n",
       "31960  31961  ...                                                      #sikh #temple vandalised #calgary #wso condemns\n",
       "31961  31962  ...                                                                                         thank follow\n",
       "\n",
       "[31962 rows x 4 columns]"
      ]
     },
     "execution_count": 12,
     "metadata": {
      "tags": []
     },
     "output_type": "execute_result"
    }
   ],
   "source": [
    "train"
   ]
  },
  {
   "cell_type": "code",
   "execution_count": 13,
   "metadata": {
    "id": "5aIDsLYBS380"
   },
   "outputs": [],
   "source": [
    "# Creating a similar alphabetic pattern of all words \n",
    "train['tidy_tweet'] = train['tidy_tweet'].str.lower()"
   ]
  },
  {
   "cell_type": "code",
   "execution_count": 14,
   "metadata": {
    "id": "X8GJfxY4S381"
   },
   "outputs": [],
   "source": [
    "## tokenzing the words \n",
    "train['tidy_tweet'] = train['tidy_tweet'].apply(lambda x: x.split())"
   ]
  },
  {
   "cell_type": "code",
   "execution_count": 15,
   "metadata": {
    "colab": {
     "base_uri": "https://localhost:8080/",
     "height": 440
    },
    "id": "PiMkyu2MS381",
    "outputId": "006191a1-db57-4d80-b29f-e66e4b1fe373"
   },
   "outputs": [
    {
     "data": {
      "text/html": [
       "<div>\n",
       "<style scoped>\n",
       "    .dataframe tbody tr th:only-of-type {\n",
       "        vertical-align: middle;\n",
       "    }\n",
       "\n",
       "    .dataframe tbody tr th {\n",
       "        vertical-align: top;\n",
       "    }\n",
       "\n",
       "    .dataframe thead th {\n",
       "        text-align: right;\n",
       "    }\n",
       "</style>\n",
       "<table border=\"1\" class=\"dataframe\">\n",
       "  <thead>\n",
       "    <tr style=\"text-align: right;\">\n",
       "      <th></th>\n",
       "      <th>id</th>\n",
       "      <th>label</th>\n",
       "      <th>tweet</th>\n",
       "      <th>tidy_tweet</th>\n",
       "    </tr>\n",
       "  </thead>\n",
       "  <tbody>\n",
       "    <tr>\n",
       "      <th>0</th>\n",
       "      <td>1</td>\n",
       "      <td>0</td>\n",
       "      <td>@user when a father is dysfunctional and is so selfish he drags his kids into his dysfunction.   #run</td>\n",
       "      <td>[when, father, dysfunctional, selfish, drags, kids, into, dysfunction, #run]</td>\n",
       "    </tr>\n",
       "    <tr>\n",
       "      <th>1</th>\n",
       "      <td>2</td>\n",
       "      <td>0</td>\n",
       "      <td>@user @user thanks for #lyft credit i can't use cause they don't offer wheelchair vans in pdx.    #disapointed #getthanked</td>\n",
       "      <td>[thanks, #lyft, credit, cause, they, offer, wheelchair, vans, #disapointed, #getthanked]</td>\n",
       "    </tr>\n",
       "    <tr>\n",
       "      <th>2</th>\n",
       "      <td>3</td>\n",
       "      <td>0</td>\n",
       "      <td>bihday your majesty</td>\n",
       "      <td>[bihday, your, majesty]</td>\n",
       "    </tr>\n",
       "    <tr>\n",
       "      <th>3</th>\n",
       "      <td>4</td>\n",
       "      <td>0</td>\n",
       "      <td>#model   i love u take with u all the time in urð±!!! ðððð",
       "ð¦ð¦ð¦</td>\n",
       "      <td>[#model, love, take, with, time]</td>\n",
       "    </tr>\n",
       "    <tr>\n",
       "      <th>4</th>\n",
       "      <td>5</td>\n",
       "      <td>0</td>\n",
       "      <td>factsguide: society now    #motivation</td>\n",
       "      <td>[factsguide, society, #motivation]</td>\n",
       "    </tr>\n",
       "    <tr>\n",
       "      <th>...</th>\n",
       "      <td>...</td>\n",
       "      <td>...</td>\n",
       "      <td>...</td>\n",
       "      <td>...</td>\n",
       "    </tr>\n",
       "    <tr>\n",
       "      <th>31957</th>\n",
       "      <td>31958</td>\n",
       "      <td>0</td>\n",
       "      <td>ate @user isz that youuu?ðððððððððâ¤ï¸</td>\n",
       "      <td>[that, youuu]</td>\n",
       "    </tr>\n",
       "    <tr>\n",
       "      <th>31958</th>\n",
       "      <td>31959</td>\n",
       "      <td>0</td>\n",
       "      <td>to see nina turner on the airwaves trying to wrap herself in the mantle of a genuine hero like shirley chisolm. #shame #imwithher</td>\n",
       "      <td>[nina, turner, airwaves, trying, wrap, herself, mantle, genuine, hero, like, shirley, chisolm, #shame, #imwithher]</td>\n",
       "    </tr>\n",
       "    <tr>\n",
       "      <th>31959</th>\n",
       "      <td>31960</td>\n",
       "      <td>0</td>\n",
       "      <td>listening to sad songs on a monday morning otw to work is sad</td>\n",
       "      <td>[listening, songs, monday, morning, work]</td>\n",
       "    </tr>\n",
       "    <tr>\n",
       "      <th>31960</th>\n",
       "      <td>31961</td>\n",
       "      <td>1</td>\n",
       "      <td>@user #sikh #temple vandalised in in #calgary, #wso condemns  act</td>\n",
       "      <td>[#sikh, #temple, vandalised, #calgary, #wso, condemns]</td>\n",
       "    </tr>\n",
       "    <tr>\n",
       "      <th>31961</th>\n",
       "      <td>31962</td>\n",
       "      <td>0</td>\n",
       "      <td>thank you @user for you follow</td>\n",
       "      <td>[thank, follow]</td>\n",
       "    </tr>\n",
       "  </tbody>\n",
       "</table>\n",
       "<p>31962 rows × 4 columns</p>\n",
       "</div>"
      ],
      "text/plain": [
       "          id  ...                                                                                                          tidy_tweet\n",
       "0          1  ...                                        [when, father, dysfunctional, selfish, drags, kids, into, dysfunction, #run]\n",
       "1          2  ...                            [thanks, #lyft, credit, cause, they, offer, wheelchair, vans, #disapointed, #getthanked]\n",
       "2          3  ...                                                                                             [bihday, your, majesty]\n",
       "3          4  ...                                                                                    [#model, love, take, with, time]\n",
       "4          5  ...                                                                                  [factsguide, society, #motivation]\n",
       "...      ...  ...                                                                                                                 ...\n",
       "31957  31958  ...                                                                                                       [that, youuu]\n",
       "31958  31959  ...  [nina, turner, airwaves, trying, wrap, herself, mantle, genuine, hero, like, shirley, chisolm, #shame, #imwithher]\n",
       "31959  31960  ...                                                                           [listening, songs, monday, morning, work]\n",
       "31960  31961  ...                                                              [#sikh, #temple, vandalised, #calgary, #wso, condemns]\n",
       "31961  31962  ...                                                                                                     [thank, follow]\n",
       "\n",
       "[31962 rows x 4 columns]"
      ]
     },
     "execution_count": 15,
     "metadata": {
      "tags": []
     },
     "output_type": "execute_result"
    }
   ],
   "source": [
    "train"
   ]
  },
  {
   "cell_type": "code",
   "execution_count": 16,
   "metadata": {
    "id": "tkYCng8pS382"
   },
   "outputs": [],
   "source": [
    "import nltk # Natural Language ToolKit, for stopping, stemming, lemmatization\n",
    "from nltk.corpus import stopwords # imports the stopwords we can use\n",
    "from nltk.stem.wordnet import WordNetLemmatizer # Lemmatizer\n",
    "from nltk.stem.porter import *\n",
    "from sklearn.feature_extraction.text import TfidfVectorizer"
   ]
  },
  {
   "cell_type": "code",
   "execution_count": 17,
   "metadata": {
    "id": "hFXnkQkfS382"
   },
   "outputs": [],
   "source": [
    "## Removing the stopwords \n",
    "train['tidy_tweet'] = train.tidy_tweet.apply(lambda x: [w for w in x if not w in stopwords.words('english')])"
   ]
  },
  {
   "cell_type": "code",
   "execution_count": 18,
   "metadata": {
    "colab": {
     "base_uri": "https://localhost:8080/",
     "height": 423
    },
    "id": "Qr3mwiE7S383",
    "outputId": "4e67147c-1608-4631-e12b-39b3b466e68d"
   },
   "outputs": [
    {
     "data": {
      "text/html": [
       "<div>\n",
       "<style scoped>\n",
       "    .dataframe tbody tr th:only-of-type {\n",
       "        vertical-align: middle;\n",
       "    }\n",
       "\n",
       "    .dataframe tbody tr th {\n",
       "        vertical-align: top;\n",
       "    }\n",
       "\n",
       "    .dataframe thead th {\n",
       "        text-align: right;\n",
       "    }\n",
       "</style>\n",
       "<table border=\"1\" class=\"dataframe\">\n",
       "  <thead>\n",
       "    <tr style=\"text-align: right;\">\n",
       "      <th></th>\n",
       "      <th>id</th>\n",
       "      <th>label</th>\n",
       "      <th>tweet</th>\n",
       "      <th>tidy_tweet</th>\n",
       "    </tr>\n",
       "  </thead>\n",
       "  <tbody>\n",
       "    <tr>\n",
       "      <th>0</th>\n",
       "      <td>1</td>\n",
       "      <td>0</td>\n",
       "      <td>@user when a father is dysfunctional and is so selfish he drags his kids into his dysfunction.   #run</td>\n",
       "      <td>[father, dysfunctional, selfish, drags, kids, dysfunction, #run]</td>\n",
       "    </tr>\n",
       "    <tr>\n",
       "      <th>1</th>\n",
       "      <td>2</td>\n",
       "      <td>0</td>\n",
       "      <td>@user @user thanks for #lyft credit i can't use cause they don't offer wheelchair vans in pdx.    #disapointed #getthanked</td>\n",
       "      <td>[thanks, #lyft, credit, cause, offer, wheelchair, vans, #disapointed, #getthanked]</td>\n",
       "    </tr>\n",
       "    <tr>\n",
       "      <th>2</th>\n",
       "      <td>3</td>\n",
       "      <td>0</td>\n",
       "      <td>bihday your majesty</td>\n",
       "      <td>[bihday, majesty]</td>\n",
       "    </tr>\n",
       "    <tr>\n",
       "      <th>3</th>\n",
       "      <td>4</td>\n",
       "      <td>0</td>\n",
       "      <td>#model   i love u take with u all the time in urð±!!! ðððð",
       "ð¦ð¦ð¦</td>\n",
       "      <td>[#model, love, take, time]</td>\n",
       "    </tr>\n",
       "    <tr>\n",
       "      <th>4</th>\n",
       "      <td>5</td>\n",
       "      <td>0</td>\n",
       "      <td>factsguide: society now    #motivation</td>\n",
       "      <td>[factsguide, society, #motivation]</td>\n",
       "    </tr>\n",
       "    <tr>\n",
       "      <th>...</th>\n",
       "      <td>...</td>\n",
       "      <td>...</td>\n",
       "      <td>...</td>\n",
       "      <td>...</td>\n",
       "    </tr>\n",
       "    <tr>\n",
       "      <th>31957</th>\n",
       "      <td>31958</td>\n",
       "      <td>0</td>\n",
       "      <td>ate @user isz that youuu?ðððððððððâ¤ï¸</td>\n",
       "      <td>[youuu]</td>\n",
       "    </tr>\n",
       "    <tr>\n",
       "      <th>31958</th>\n",
       "      <td>31959</td>\n",
       "      <td>0</td>\n",
       "      <td>to see nina turner on the airwaves trying to wrap herself in the mantle of a genuine hero like shirley chisolm. #shame #imwithher</td>\n",
       "      <td>[nina, turner, airwaves, trying, wrap, mantle, genuine, hero, like, shirley, chisolm, #shame, #imwithher]</td>\n",
       "    </tr>\n",
       "    <tr>\n",
       "      <th>31959</th>\n",
       "      <td>31960</td>\n",
       "      <td>0</td>\n",
       "      <td>listening to sad songs on a monday morning otw to work is sad</td>\n",
       "      <td>[listening, songs, monday, morning, work]</td>\n",
       "    </tr>\n",
       "    <tr>\n",
       "      <th>31960</th>\n",
       "      <td>31961</td>\n",
       "      <td>1</td>\n",
       "      <td>@user #sikh #temple vandalised in in #calgary, #wso condemns  act</td>\n",
       "      <td>[#sikh, #temple, vandalised, #calgary, #wso, condemns]</td>\n",
       "    </tr>\n",
       "    <tr>\n",
       "      <th>31961</th>\n",
       "      <td>31962</td>\n",
       "      <td>0</td>\n",
       "      <td>thank you @user for you follow</td>\n",
       "      <td>[thank, follow]</td>\n",
       "    </tr>\n",
       "  </tbody>\n",
       "</table>\n",
       "<p>31962 rows × 4 columns</p>\n",
       "</div>"
      ],
      "text/plain": [
       "          id  ...                                                                                                 tidy_tweet\n",
       "0          1  ...                                           [father, dysfunctional, selfish, drags, kids, dysfunction, #run]\n",
       "1          2  ...                         [thanks, #lyft, credit, cause, offer, wheelchair, vans, #disapointed, #getthanked]\n",
       "2          3  ...                                                                                          [bihday, majesty]\n",
       "3          4  ...                                                                                 [#model, love, take, time]\n",
       "4          5  ...                                                                         [factsguide, society, #motivation]\n",
       "...      ...  ...                                                                                                        ...\n",
       "31957  31958  ...                                                                                                    [youuu]\n",
       "31958  31959  ...  [nina, turner, airwaves, trying, wrap, mantle, genuine, hero, like, shirley, chisolm, #shame, #imwithher]\n",
       "31959  31960  ...                                                                  [listening, songs, monday, morning, work]\n",
       "31960  31961  ...                                                     [#sikh, #temple, vandalised, #calgary, #wso, condemns]\n",
       "31961  31962  ...                                                                                            [thank, follow]\n",
       "\n",
       "[31962 rows x 4 columns]"
      ]
     },
     "execution_count": 18,
     "metadata": {
      "tags": []
     },
     "output_type": "execute_result"
    }
   ],
   "source": [
    "train"
   ]
  },
  {
   "cell_type": "code",
   "execution_count": 19,
   "metadata": {
    "id": "DMzSvAvaS383"
   },
   "outputs": [],
   "source": [
    "## stemming=PorterStemmer()\n",
    "## train['tokenized_words'] = train.tokenized_words.apply(lambda x: [stemming.stem(i) for i in x]) "
   ]
  },
  {
   "cell_type": "code",
   "execution_count": 20,
   "metadata": {
    "id": "7M3Qzg-fS383"
   },
   "outputs": [],
   "source": [
    "## lammetizing the preprocessiong sentence \n",
    "lemmatizer=WordNetLemmatizer()\n",
    "train['tidy_tweet'] = train.tidy_tweet.apply(lambda x: [lemmatizer.lemmatize(i, 'v') for i in x ])"
   ]
  },
  {
   "cell_type": "code",
   "execution_count": 21,
   "metadata": {
    "colab": {
     "base_uri": "https://localhost:8080/",
     "height": 423
    },
    "id": "ndkhxs3lS384",
    "outputId": "3a0ece04-87a5-4bf7-ac3d-f8f5b623e3d9"
   },
   "outputs": [
    {
     "data": {
      "text/html": [
       "<div>\n",
       "<style scoped>\n",
       "    .dataframe tbody tr th:only-of-type {\n",
       "        vertical-align: middle;\n",
       "    }\n",
       "\n",
       "    .dataframe tbody tr th {\n",
       "        vertical-align: top;\n",
       "    }\n",
       "\n",
       "    .dataframe thead th {\n",
       "        text-align: right;\n",
       "    }\n",
       "</style>\n",
       "<table border=\"1\" class=\"dataframe\">\n",
       "  <thead>\n",
       "    <tr style=\"text-align: right;\">\n",
       "      <th></th>\n",
       "      <th>id</th>\n",
       "      <th>label</th>\n",
       "      <th>tweet</th>\n",
       "      <th>tidy_tweet</th>\n",
       "    </tr>\n",
       "  </thead>\n",
       "  <tbody>\n",
       "    <tr>\n",
       "      <th>0</th>\n",
       "      <td>1</td>\n",
       "      <td>0</td>\n",
       "      <td>@user when a father is dysfunctional and is so selfish he drags his kids into his dysfunction.   #run</td>\n",
       "      <td>[father, dysfunctional, selfish, drag, kid, dysfunction, #run]</td>\n",
       "    </tr>\n",
       "    <tr>\n",
       "      <th>1</th>\n",
       "      <td>2</td>\n",
       "      <td>0</td>\n",
       "      <td>@user @user thanks for #lyft credit i can't use cause they don't offer wheelchair vans in pdx.    #disapointed #getthanked</td>\n",
       "      <td>[thank, #lyft, credit, cause, offer, wheelchair, vans, #disapointed, #getthanked]</td>\n",
       "    </tr>\n",
       "    <tr>\n",
       "      <th>2</th>\n",
       "      <td>3</td>\n",
       "      <td>0</td>\n",
       "      <td>bihday your majesty</td>\n",
       "      <td>[bihday, majesty]</td>\n",
       "    </tr>\n",
       "    <tr>\n",
       "      <th>3</th>\n",
       "      <td>4</td>\n",
       "      <td>0</td>\n",
       "      <td>#model   i love u take with u all the time in urð±!!! ðððð",
       "ð¦ð¦ð¦</td>\n",
       "      <td>[#model, love, take, time]</td>\n",
       "    </tr>\n",
       "    <tr>\n",
       "      <th>4</th>\n",
       "      <td>5</td>\n",
       "      <td>0</td>\n",
       "      <td>factsguide: society now    #motivation</td>\n",
       "      <td>[factsguide, society, #motivation]</td>\n",
       "    </tr>\n",
       "    <tr>\n",
       "      <th>...</th>\n",
       "      <td>...</td>\n",
       "      <td>...</td>\n",
       "      <td>...</td>\n",
       "      <td>...</td>\n",
       "    </tr>\n",
       "    <tr>\n",
       "      <th>31957</th>\n",
       "      <td>31958</td>\n",
       "      <td>0</td>\n",
       "      <td>ate @user isz that youuu?ðððððððððâ¤ï¸</td>\n",
       "      <td>[youuu]</td>\n",
       "    </tr>\n",
       "    <tr>\n",
       "      <th>31958</th>\n",
       "      <td>31959</td>\n",
       "      <td>0</td>\n",
       "      <td>to see nina turner on the airwaves trying to wrap herself in the mantle of a genuine hero like shirley chisolm. #shame #imwithher</td>\n",
       "      <td>[nina, turner, airwaves, try, wrap, mantle, genuine, hero, like, shirley, chisolm, #shame, #imwithher]</td>\n",
       "    </tr>\n",
       "    <tr>\n",
       "      <th>31959</th>\n",
       "      <td>31960</td>\n",
       "      <td>0</td>\n",
       "      <td>listening to sad songs on a monday morning otw to work is sad</td>\n",
       "      <td>[listen, songs, monday, morning, work]</td>\n",
       "    </tr>\n",
       "    <tr>\n",
       "      <th>31960</th>\n",
       "      <td>31961</td>\n",
       "      <td>1</td>\n",
       "      <td>@user #sikh #temple vandalised in in #calgary, #wso condemns  act</td>\n",
       "      <td>[#sikh, #temple, vandalise, #calgary, #wso, condemn]</td>\n",
       "    </tr>\n",
       "    <tr>\n",
       "      <th>31961</th>\n",
       "      <td>31962</td>\n",
       "      <td>0</td>\n",
       "      <td>thank you @user for you follow</td>\n",
       "      <td>[thank, follow]</td>\n",
       "    </tr>\n",
       "  </tbody>\n",
       "</table>\n",
       "<p>31962 rows × 4 columns</p>\n",
       "</div>"
      ],
      "text/plain": [
       "          id  ...                                                                                              tidy_tweet\n",
       "0          1  ...                                          [father, dysfunctional, selfish, drag, kid, dysfunction, #run]\n",
       "1          2  ...                       [thank, #lyft, credit, cause, offer, wheelchair, vans, #disapointed, #getthanked]\n",
       "2          3  ...                                                                                       [bihday, majesty]\n",
       "3          4  ...                                                                              [#model, love, take, time]\n",
       "4          5  ...                                                                      [factsguide, society, #motivation]\n",
       "...      ...  ...                                                                                                     ...\n",
       "31957  31958  ...                                                                                                 [youuu]\n",
       "31958  31959  ...  [nina, turner, airwaves, try, wrap, mantle, genuine, hero, like, shirley, chisolm, #shame, #imwithher]\n",
       "31959  31960  ...                                                                  [listen, songs, monday, morning, work]\n",
       "31960  31961  ...                                                    [#sikh, #temple, vandalise, #calgary, #wso, condemn]\n",
       "31961  31962  ...                                                                                         [thank, follow]\n",
       "\n",
       "[31962 rows x 4 columns]"
      ]
     },
     "execution_count": 21,
     "metadata": {
      "tags": []
     },
     "output_type": "execute_result"
    }
   ],
   "source": [
    "train"
   ]
  },
  {
   "cell_type": "code",
   "execution_count": 22,
   "metadata": {
    "colab": {
     "base_uri": "https://localhost:8080/"
    },
    "id": "-lwfA6rIS384",
    "outputId": "20b253ac-856e-410f-c506-616715316f2e"
   },
   "outputs": [
    {
     "name": "stderr",
     "output_type": "stream",
     "text": [
      "/usr/local/lib/python3.7/dist-packages/ipykernel_launcher.py:3: SettingWithCopyWarning: \n",
      "A value is trying to be set on a copy of a slice from a DataFrame\n",
      "\n",
      "See the caveats in the documentation: https://pandas.pydata.org/pandas-docs/stable/user_guide/indexing.html#returning-a-view-versus-a-copy\n",
      "  This is separate from the ipykernel package so we can avoid doing imports until\n"
     ]
    }
   ],
   "source": [
    "## joining the tokenized words \n",
    "for i in range(len(train['tidy_tweet'])):\n",
    "   train['tidy_tweet'][i] = ' '.join( train['tidy_tweet'][i])\n",
    "\n"
   ]
  },
  {
   "cell_type": "code",
   "execution_count": 23,
   "metadata": {
    "colab": {
     "base_uri": "https://localhost:8080/",
     "height": 423
    },
    "id": "YDU8SZ2mS385",
    "outputId": "ef5ad880-dfbb-457c-9133-2061f2f4b7fd"
   },
   "outputs": [
    {
     "data": {
      "text/html": [
       "<div>\n",
       "<style scoped>\n",
       "    .dataframe tbody tr th:only-of-type {\n",
       "        vertical-align: middle;\n",
       "    }\n",
       "\n",
       "    .dataframe tbody tr th {\n",
       "        vertical-align: top;\n",
       "    }\n",
       "\n",
       "    .dataframe thead th {\n",
       "        text-align: right;\n",
       "    }\n",
       "</style>\n",
       "<table border=\"1\" class=\"dataframe\">\n",
       "  <thead>\n",
       "    <tr style=\"text-align: right;\">\n",
       "      <th></th>\n",
       "      <th>id</th>\n",
       "      <th>label</th>\n",
       "      <th>tweet</th>\n",
       "      <th>tidy_tweet</th>\n",
       "    </tr>\n",
       "  </thead>\n",
       "  <tbody>\n",
       "    <tr>\n",
       "      <th>0</th>\n",
       "      <td>1</td>\n",
       "      <td>0</td>\n",
       "      <td>@user when a father is dysfunctional and is so selfish he drags his kids into his dysfunction.   #run</td>\n",
       "      <td>father dysfunctional selfish drag kid dysfunction #run</td>\n",
       "    </tr>\n",
       "    <tr>\n",
       "      <th>1</th>\n",
       "      <td>2</td>\n",
       "      <td>0</td>\n",
       "      <td>@user @user thanks for #lyft credit i can't use cause they don't offer wheelchair vans in pdx.    #disapointed #getthanked</td>\n",
       "      <td>thank #lyft credit cause offer wheelchair vans #disapointed #getthanked</td>\n",
       "    </tr>\n",
       "    <tr>\n",
       "      <th>2</th>\n",
       "      <td>3</td>\n",
       "      <td>0</td>\n",
       "      <td>bihday your majesty</td>\n",
       "      <td>bihday majesty</td>\n",
       "    </tr>\n",
       "    <tr>\n",
       "      <th>3</th>\n",
       "      <td>4</td>\n",
       "      <td>0</td>\n",
       "      <td>#model   i love u take with u all the time in urð±!!! ðððð",
       "ð¦ð¦ð¦</td>\n",
       "      <td>#model love take time</td>\n",
       "    </tr>\n",
       "    <tr>\n",
       "      <th>4</th>\n",
       "      <td>5</td>\n",
       "      <td>0</td>\n",
       "      <td>factsguide: society now    #motivation</td>\n",
       "      <td>factsguide society #motivation</td>\n",
       "    </tr>\n",
       "    <tr>\n",
       "      <th>...</th>\n",
       "      <td>...</td>\n",
       "      <td>...</td>\n",
       "      <td>...</td>\n",
       "      <td>...</td>\n",
       "    </tr>\n",
       "    <tr>\n",
       "      <th>31957</th>\n",
       "      <td>31958</td>\n",
       "      <td>0</td>\n",
       "      <td>ate @user isz that youuu?ðððððððððâ¤ï¸</td>\n",
       "      <td>youuu</td>\n",
       "    </tr>\n",
       "    <tr>\n",
       "      <th>31958</th>\n",
       "      <td>31959</td>\n",
       "      <td>0</td>\n",
       "      <td>to see nina turner on the airwaves trying to wrap herself in the mantle of a genuine hero like shirley chisolm. #shame #imwithher</td>\n",
       "      <td>nina turner airwaves try wrap mantle genuine hero like shirley chisolm #shame #imwithher</td>\n",
       "    </tr>\n",
       "    <tr>\n",
       "      <th>31959</th>\n",
       "      <td>31960</td>\n",
       "      <td>0</td>\n",
       "      <td>listening to sad songs on a monday morning otw to work is sad</td>\n",
       "      <td>listen songs monday morning work</td>\n",
       "    </tr>\n",
       "    <tr>\n",
       "      <th>31960</th>\n",
       "      <td>31961</td>\n",
       "      <td>1</td>\n",
       "      <td>@user #sikh #temple vandalised in in #calgary, #wso condemns  act</td>\n",
       "      <td>#sikh #temple vandalise #calgary #wso condemn</td>\n",
       "    </tr>\n",
       "    <tr>\n",
       "      <th>31961</th>\n",
       "      <td>31962</td>\n",
       "      <td>0</td>\n",
       "      <td>thank you @user for you follow</td>\n",
       "      <td>thank follow</td>\n",
       "    </tr>\n",
       "  </tbody>\n",
       "</table>\n",
       "<p>31962 rows × 4 columns</p>\n",
       "</div>"
      ],
      "text/plain": [
       "          id  ...                                                                                tidy_tweet\n",
       "0          1  ...                                    father dysfunctional selfish drag kid dysfunction #run\n",
       "1          2  ...                   thank #lyft credit cause offer wheelchair vans #disapointed #getthanked\n",
       "2          3  ...                                                                            bihday majesty\n",
       "3          4  ...                                                                     #model love take time\n",
       "4          5  ...                                                            factsguide society #motivation\n",
       "...      ...  ...                                                                                       ...\n",
       "31957  31958  ...                                                                                     youuu\n",
       "31958  31959  ...  nina turner airwaves try wrap mantle genuine hero like shirley chisolm #shame #imwithher\n",
       "31959  31960  ...                                                          listen songs monday morning work\n",
       "31960  31961  ...                                             #sikh #temple vandalise #calgary #wso condemn\n",
       "31961  31962  ...                                                                              thank follow\n",
       "\n",
       "[31962 rows x 4 columns]"
      ]
     },
     "execution_count": 23,
     "metadata": {
      "tags": []
     },
     "output_type": "execute_result"
    }
   ],
   "source": [
    "train"
   ]
  },
  {
   "cell_type": "markdown",
   "metadata": {
    "id": "CY_3OdQzS385"
   },
   "source": [
    "## Understanding the impact of Hashtags on tweets sentiment"
   ]
  },
  {
   "cell_type": "code",
   "execution_count": 24,
   "metadata": {
    "id": "3x386fLCS386"
   },
   "outputs": [],
   "source": [
    "def hashtag_extract(x):\n",
    "    hashtags = []\n",
    "    # Loop over the words in the tweet\n",
    "    for i in x:\n",
    "        ht = re.findall(r\"#(\\w+)\", i)\n",
    "        hashtags.append(ht)\n",
    "\n",
    "    return hashtags"
   ]
  },
  {
   "cell_type": "code",
   "execution_count": 25,
   "metadata": {
    "id": "wAQZ6LB4S386"
   },
   "outputs": [],
   "source": [
    "# extracting hashtags from non racist/sexist tweets\n",
    "\n",
    "HT_regular = hashtag_extract(train['tidy_tweet'][train['label'] == 0])\n",
    "\n",
    "# extracting hashtags from racist/sexist tweets\n",
    "HT_negative = hashtag_extract(train['tidy_tweet'][train['label'] == 1])\n",
    "\n",
    "# unnesting list\n",
    "HT_regular = sum(HT_regular,[])\n",
    "HT_negative = sum(HT_negative,[])"
   ]
  },
  {
   "cell_type": "code",
   "execution_count": 26,
   "metadata": {
    "colab": {
     "base_uri": "https://localhost:8080/",
     "height": 333
    },
    "id": "xcR-wuIPS387",
    "outputId": "095c62cf-f9b7-4fe1-d3eb-cbe1ca27a606"
   },
   "outputs": [
    {
     "data": {
      "image/png": "[encoded data removed]",
      "text/plain": [
       "<Figure size 1152x360 with 1 Axes>"
      ]
     },
     "metadata": {
      "needs_background": "light",
      "tags": []
     },
     "output_type": "display_data"
    }
   ],
   "source": [
    "a = nltk.FreqDist(HT_regular)\n",
    "d = pd.DataFrame({'Hashtag': list(a.keys()),\n",
    "                  'Count': list(a.values())})\n",
    "# selecting top 10 most frequent hashtags from non racist/sexist tweets  \n",
    "d = d.nlargest(columns=\"Count\", n = 10) \n",
    "plt.figure(figsize=(16,5))\n",
    "ax = sns.barplot(data=d, x= \"Hashtag\", y = \"Count\")\n",
    "ax.set(ylabel = 'Count')\n",
    "plt.show()"
   ]
  },
  {
   "cell_type": "code",
   "execution_count": 27,
   "metadata": {
    "colab": {
     "base_uri": "https://localhost:8080/",
     "height": 333
    },
    "id": "g6C47dxOS387",
    "outputId": "fea9280f-669a-4117-83f8-f038a2cc9e8d"
   },
   "outputs": [
    {
     "data": {
      "image/png": "[encoded data removed]",
      "text/plain": [
       "<Figure size 1152x360 with 1 Axes>"
      ]
     },
     "metadata": {
      "needs_background": "light",
      "tags": []
     },
     "output_type": "display_data"
    }
   ],
   "source": [
    "b = nltk.FreqDist(HT_negative)\n",
    "e = pd.DataFrame({'Hashtag': list(b.keys()), 'Count': list(b.values())})\n",
    "# selecting top 10 most frequent hashtags from racist/sexist tweets\n",
    "e = e.nlargest(columns=\"Count\", n = 10)   \n",
    "plt.figure(figsize=(16,5))\n",
    "ax = sns.barplot(data=e, x= \"Hashtag\", y = \"Count\")\n",
    "ax.set(ylabel = 'Count')\n",
    "plt.show()"
   ]
  },
  {
   "cell_type": "code",
   "execution_count": 28,
   "metadata": {
    "id": "Kqe-2WtmS388"
   },
   "outputs": [],
   "source": [
    "tfidf_vectorizer = TfidfVectorizer(max_df=0.90, min_df=2, max_features=1000, stop_words='english')\n",
    "# TF-IDF feature matrix\n",
    "tfidf_train = tfidf_vectorizer.fit_transform(train['tidy_tweet'])"
   ]
  },
  {
   "cell_type": "code",
   "execution_count": 29,
   "metadata": {
    "colab": {
     "base_uri": "https://localhost:8080/",
     "height": 391
    },
    "id": "RjeFMFIpS389",
    "outputId": "6902d660-fa2f-4321-9b9f-e45993818d7e"
   },
   "outputs": [
    {
     "data": {
      "text/html": [
       "<div>\n",
       "<style scoped>\n",
       "    .dataframe tbody tr th:only-of-type {\n",
       "        vertical-align: middle;\n",
       "    }\n",
       "\n",
       "    .dataframe tbody tr th {\n",
       "        vertical-align: top;\n",
       "    }\n",
       "\n",
       "    .dataframe thead th {\n",
       "        text-align: right;\n",
       "    }\n",
       "</style>\n",
       "<table border=\"1\" class=\"dataframe\">\n",
       "  <thead>\n",
       "    <tr style=\"text-align: right;\">\n",
       "      <th></th>\n",
       "      <th>id</th>\n",
       "      <th>tweet</th>\n",
       "    </tr>\n",
       "  </thead>\n",
       "  <tbody>\n",
       "    <tr>\n",
       "      <th>0</th>\n",
       "      <td>31963</td>\n",
       "      <td>#studiolife #aislife #requires #passion #dedication #willpower   to find #newmaterialsâ¦</td>\n",
       "    </tr>\n",
       "    <tr>\n",
       "      <th>1</th>\n",
       "      <td>31964</td>\n",
       "      <td>@user #white #supremacists want everyone to see the new â  #birdsâ #movie â and hereâs why</td>\n",
       "    </tr>\n",
       "    <tr>\n",
       "      <th>2</th>\n",
       "      <td>31965</td>\n",
       "      <td>safe ways to heal your #acne!!    #altwaystoheal #healthy   #healing!!</td>\n",
       "    </tr>\n",
       "    <tr>\n",
       "      <th>3</th>\n",
       "      <td>31966</td>\n",
       "      <td>is the hp and the cursed child book up for reservations already? if yes, where? if no, when? ððð   #harrypotter #pottermore #favorite</td>\n",
       "    </tr>\n",
       "    <tr>\n",
       "      <th>4</th>\n",
       "      <td>31967</td>\n",
       "      <td>3rd #bihday to my amazing, hilarious #nephew eli ahmir! uncle dave loves you and missesâ¦</td>\n",
       "    </tr>\n",
       "    <tr>\n",
       "      <th>...</th>\n",
       "      <td>...</td>\n",
       "      <td>...</td>\n",
       "    </tr>\n",
       "    <tr>\n",
       "      <th>17192</th>\n",
       "      <td>49155</td>\n",
       "      <td>thought factory: left-right polarisation! #trump #uselections2016 #leadership #politics  #brexit #blm &amp;gt;3</td>\n",
       "    </tr>\n",
       "    <tr>\n",
       "      <th>17193</th>\n",
       "      <td>49156</td>\n",
       "      <td>feeling like a mermaid ð #hairflip #neverready #formal #wedding #gown #dresses #mermaid  â¦</td>\n",
       "    </tr>\n",
       "    <tr>\n",
       "      <th>17194</th>\n",
       "      <td>49157</td>\n",
       "      <td>#hillary #campaigned today in #ohio((omg)) &amp;amp; used words like \"assets&amp;amp;liability\" never once did #clinton say thee(word) #radicalization</td>\n",
       "    </tr>\n",
       "    <tr>\n",
       "      <th>17195</th>\n",
       "      <td>49158</td>\n",
       "      <td>happy, at work conference: right mindset leads to culture-of-development organizations    #work #mindset</td>\n",
       "    </tr>\n",
       "    <tr>\n",
       "      <th>17196</th>\n",
       "      <td>49159</td>\n",
       "      <td>my   song \"so glad\" free download!  #shoegaze #newmusic #newsong</td>\n",
       "    </tr>\n",
       "  </tbody>\n",
       "</table>\n",
       "<p>17197 rows × 2 columns</p>\n",
       "</div>"
      ],
      "text/plain": [
       "          id                                                                                                                                              tweet\n",
       "0      31963                                                         #studiolife #aislife #requires #passion #dedication #willpower   to find #newmaterialsâ¦ \n",
       "1      31964                                               @user #white #supremacists want everyone to see the new â  #birdsâ #movie â and hereâs why  \n",
       "2      31965                                                                            safe ways to heal your #acne!!    #altwaystoheal #healthy   #healing!! \n",
       "3      31966     is the hp and the cursed child book up for reservations already? if yes, where? if no, when? ððð   #harrypotter #pottermore #favorite\n",
       "4      31967                                                        3rd #bihday to my amazing, hilarious #nephew eli ahmir! uncle dave loves you and missesâ¦ \n",
       "...      ...                                                                                                                                                ...\n",
       "17192  49155                                       thought factory: left-right polarisation! #trump #uselections2016 #leadership #politics  #brexit #blm &gt;3 \n",
       "17193  49156                                                   feeling like a mermaid ð #hairflip #neverready #formal #wedding #gown #dresses #mermaid  â¦ \n",
       "17194  49157  #hillary #campaigned today in #ohio((omg)) &amp; used words like \"assets&amp;liability\" never once did #clinton say thee(word) #radicalization   \n",
       "17195  49158                                           happy, at work conference: right mindset leads to culture-of-development organizations    #work #mindset\n",
       "17196  49159                                                                                   my   song \"so glad\" free download!  #shoegaze #newmusic #newsong\n",
       "\n",
       "[17197 rows x 2 columns]"
      ]
     },
     "execution_count": 29,
     "metadata": {
      "tags": []
     },
     "output_type": "execute_result"
    }
   ],
   "source": [
    "test"
   ]
  },
  {
   "cell_type": "code",
   "execution_count": 30,
   "metadata": {
    "id": "shJOoVk-S389"
   },
   "outputs": [],
   "source": [
    "\n",
    "test['tidy_tweet'] = np.vectorize(remove_pattern)(test['tweet'], \"@[\\w]*\")\n",
    "test['tidy_tweet'] = test['tidy_tweet'].str.replace(\"[^a-zA-Z#]\", \" \")\n",
    "test['tidy_tweet'] =test['tidy_tweet'].apply(lambda x: ' '.join([w for w in x.split() if len(w)>3]))\n",
    "\n"
   ]
  },
  {
   "cell_type": "code",
   "execution_count": 31,
   "metadata": {
    "id": "cSv9XMtCS38-"
   },
   "outputs": [],
   "source": [
    "test['tidy_tweet'] = test['tidy_tweet'].apply(lambda x: x.split())"
   ]
  },
  {
   "cell_type": "code",
   "execution_count": 32,
   "metadata": {
    "id": "6ia9Y1hBS38-"
   },
   "outputs": [],
   "source": [
    "\n",
    "\n",
    "test['tidy_tweet'] = test.tidy_tweet.apply(lambda x: [w for w in x if not w in stopwords.words('english')])\n",
    "\n"
   ]
  },
  {
   "cell_type": "code",
   "execution_count": 33,
   "metadata": {
    "id": "skGOR1e5S38_"
   },
   "outputs": [],
   "source": [
    "test['tidy_tweet'] = test.tidy_tweet.apply(lambda x: [lemmatizer.lemmatize(i, 'v') for i in x ])"
   ]
  },
  {
   "cell_type": "code",
   "execution_count": 34,
   "metadata": {
    "colab": {
     "base_uri": "https://localhost:8080/"
    },
    "id": "0pfVzP0cS38_",
    "outputId": "ae33f613-6956-42e7-e0ad-2d61abea8f4e"
   },
   "outputs": [
    {
     "name": "stderr",
     "output_type": "stream",
     "text": [
      "/usr/local/lib/python3.7/dist-packages/ipykernel_launcher.py:2: SettingWithCopyWarning: \n",
      "A value is trying to be set on a copy of a slice from a DataFrame\n",
      "\n",
      "See the caveats in the documentation: https://pandas.pydata.org/pandas-docs/stable/user_guide/indexing.html#returning-a-view-versus-a-copy\n",
      "  \n"
     ]
    }
   ],
   "source": [
    "for i in range(len(test['tidy_tweet'])):\n",
    "    test['tidy_tweet'][i] = ' '.join( test['tidy_tweet'][i])\n"
   ]
  },
  {
   "cell_type": "code",
   "execution_count": 35,
   "metadata": {
    "colab": {
     "base_uri": "https://localhost:8080/",
     "height": 505
    },
    "id": "IDBw71NKS38_",
    "outputId": "7307ccce-4c64-4b68-d101-8642e6308d7c"
   },
   "outputs": [
    {
     "data": {
      "text/html": [
       "<div>\n",
       "<style scoped>\n",
       "    .dataframe tbody tr th:only-of-type {\n",
       "        vertical-align: middle;\n",
       "    }\n",
       "\n",
       "    .dataframe tbody tr th {\n",
       "        vertical-align: top;\n",
       "    }\n",
       "\n",
       "    .dataframe thead th {\n",
       "        text-align: right;\n",
       "    }\n",
       "</style>\n",
       "<table border=\"1\" class=\"dataframe\">\n",
       "  <thead>\n",
       "    <tr style=\"text-align: right;\">\n",
       "      <th></th>\n",
       "      <th>id</th>\n",
       "      <th>tweet</th>\n",
       "      <th>tidy_tweet</th>\n",
       "    </tr>\n",
       "  </thead>\n",
       "  <tbody>\n",
       "    <tr>\n",
       "      <th>0</th>\n",
       "      <td>31963</td>\n",
       "      <td>#studiolife #aislife #requires #passion #dedication #willpower   to find #newmaterialsâ¦</td>\n",
       "      <td>#studiolife #aislife #requires #passion #dedication #willpower find #newmaterials</td>\n",
       "    </tr>\n",
       "    <tr>\n",
       "      <th>1</th>\n",
       "      <td>31964</td>\n",
       "      <td>@user #white #supremacists want everyone to see the new â  #birdsâ #movie â and hereâs why</td>\n",
       "      <td>#white #supremacists want everyone #birds #movie</td>\n",
       "    </tr>\n",
       "    <tr>\n",
       "      <th>2</th>\n",
       "      <td>31965</td>\n",
       "      <td>safe ways to heal your #acne!!    #altwaystoheal #healthy   #healing!!</td>\n",
       "      <td>safe ways heal #acne #altwaystoheal #healthy #healing</td>\n",
       "    </tr>\n",
       "    <tr>\n",
       "      <th>3</th>\n",
       "      <td>31966</td>\n",
       "      <td>is the hp and the cursed child book up for reservations already? if yes, where? if no, when? ððð   #harrypotter #pottermore #favorite</td>\n",
       "      <td>curse child book reservations already #harrypotter #pottermore #favorite</td>\n",
       "    </tr>\n",
       "    <tr>\n",
       "      <th>4</th>\n",
       "      <td>31967</td>\n",
       "      <td>3rd #bihday to my amazing, hilarious #nephew eli ahmir! uncle dave loves you and missesâ¦</td>\n",
       "      <td>#bihday amaze hilarious #nephew ahmir uncle dave love miss</td>\n",
       "    </tr>\n",
       "    <tr>\n",
       "      <th>...</th>\n",
       "      <td>...</td>\n",
       "      <td>...</td>\n",
       "      <td>...</td>\n",
       "    </tr>\n",
       "    <tr>\n",
       "      <th>17192</th>\n",
       "      <td>49155</td>\n",
       "      <td>thought factory: left-right polarisation! #trump #uselections2016 #leadership #politics  #brexit #blm &amp;gt;3</td>\n",
       "      <td>think factory leave right polarisation #trump #uselections #leadership #politics #brexit #blm</td>\n",
       "    </tr>\n",
       "    <tr>\n",
       "      <th>17193</th>\n",
       "      <td>49156</td>\n",
       "      <td>feeling like a mermaid ð #hairflip #neverready #formal #wedding #gown #dresses #mermaid  â¦</td>\n",
       "      <td>feel like mermaid #hairflip #neverready #formal #wedding #gown #dresses #mermaid</td>\n",
       "    </tr>\n",
       "    <tr>\n",
       "      <th>17194</th>\n",
       "      <td>49157</td>\n",
       "      <td>#hillary #campaigned today in #ohio((omg)) &amp;amp; used words like \"assets&amp;amp;liability\" never once did #clinton say thee(word) #radicalization</td>\n",
       "      <td>#hillary #campaigned today #ohio use word like assets liability never #clinton thee word #radicalization</td>\n",
       "    </tr>\n",
       "    <tr>\n",
       "      <th>17195</th>\n",
       "      <td>49158</td>\n",
       "      <td>happy, at work conference: right mindset leads to culture-of-development organizations    #work #mindset</td>\n",
       "      <td>happy work conference right mindset lead culture development organizations #work #mindset</td>\n",
       "    </tr>\n",
       "    <tr>\n",
       "      <th>17196</th>\n",
       "      <td>49159</td>\n",
       "      <td>my   song \"so glad\" free download!  #shoegaze #newmusic #newsong</td>\n",
       "      <td>song glad free download #shoegaze #newmusic #newsong</td>\n",
       "    </tr>\n",
       "  </tbody>\n",
       "</table>\n",
       "<p>17197 rows × 3 columns</p>\n",
       "</div>"
      ],
      "text/plain": [
       "          id  ...                                                                                                tidy_tweet\n",
       "0      31963  ...                         #studiolife #aislife #requires #passion #dedication #willpower find #newmaterials\n",
       "1      31964  ...                                                          #white #supremacists want everyone #birds #movie\n",
       "2      31965  ...                                                     safe ways heal #acne #altwaystoheal #healthy #healing\n",
       "3      31966  ...                                  curse child book reservations already #harrypotter #pottermore #favorite\n",
       "4      31967  ...                                                #bihday amaze hilarious #nephew ahmir uncle dave love miss\n",
       "...      ...  ...                                                                                                       ...\n",
       "17192  49155  ...             think factory leave right polarisation #trump #uselections #leadership #politics #brexit #blm\n",
       "17193  49156  ...                          feel like mermaid #hairflip #neverready #formal #wedding #gown #dresses #mermaid\n",
       "17194  49157  ...  #hillary #campaigned today #ohio use word like assets liability never #clinton thee word #radicalization\n",
       "17195  49158  ...                 happy work conference right mindset lead culture development organizations #work #mindset\n",
       "17196  49159  ...                                                      song glad free download #shoegaze #newmusic #newsong\n",
       "\n",
       "[17197 rows x 3 columns]"
      ]
     },
     "execution_count": 35,
     "metadata": {
      "tags": []
     },
     "output_type": "execute_result"
    }
   ],
   "source": [
    "test"
   ]
  },
  {
   "cell_type": "code",
   "execution_count": 36,
   "metadata": {
    "id": "zFxMy4yxS39A"
   },
   "outputs": [],
   "source": [
    "def hashtag_extract(x):\n",
    "    hashtags = []\n",
    "    # Loop over the words in the tweet\n",
    "    for i in x:\n",
    "        ht = re.findall(r\"#(\\w+)\", i)\n",
    "        hashtags.append(ht)\n",
    "\n",
    "    return hashtags"
   ]
  },
  {
   "cell_type": "code",
   "execution_count": 37,
   "metadata": {
    "id": "KEWJqmMBS39A"
   },
   "outputs": [],
   "source": [
    "# extracting hashtags from non racist/sexist tweets\n",
    "\n",
    "HT_regular = hashtag_extract(train['tweet'][train['label'] == 0])\n",
    "\n",
    "# extracting hashtags from racist/sexist tweets\n",
    "HT_negative = hashtag_extract(train['tidy_tweet'][train['label'] == 1])"
   ]
  },
  {
   "cell_type": "code",
   "execution_count": 38,
   "metadata": {
    "id": "PphYKYKDS39B"
   },
   "outputs": [],
   "source": [
    "HT_regular = sum(HT_regular,[])"
   ]
  },
  {
   "cell_type": "code",
   "execution_count": 39,
   "metadata": {
    "colab": {
     "base_uri": "https://localhost:8080/"
    },
    "id": "vYFrVhhIS39B",
    "outputId": "0c1a00c7-7494-489c-93ef-c43ab3d8432c"
   },
   "outputs": [
    {
     "data": {
      "text/plain": [
       "['run',\n",
       " 'lyft',\n",
       " 'disapointed',\n",
       " 'getthanked',\n",
       " 'model',\n",
       " 'motivation',\n",
       " 'allshowandnogo',\n",
       " 'school',\n",
       " 'exams',\n",
       " 'hate',\n",
       " 'imagine',\n",
       " 'actorslife',\n",
       " 'revolutionschool',\n",
       " 'girl',\n",
       " 'allin',\n",
       " 'cavs',\n",
       " 'champions',\n",
       " 'cleveland',\n",
       " 'clevelandcavaliers',\n",
       " 'gr8',\n",
       " 'ireland',\n",
       " 'blog',\n",
       " 'silver',\n",
       " 'gold',\n",
       " 'forex',\n",
       " 'orlando',\n",
       " 'standwithorlando',\n",
       " 'pulseshooting',\n",
       " 'orlandoshooting',\n",
       " 'biggerproblems',\n",
       " 'selfish',\n",
       " 'heabreaking',\n",
       " 'values',\n",
       " 'love',\n",
       " '80days',\n",
       " 'gettingfed',\n",
       " 'got7',\n",
       " 'junior',\n",
       " 'yugyoem',\n",
       " 'omg',\n",
       " 'thankful',\n",
       " 'positive',\n",
       " 'friday',\n",
       " 'cookies',\n",
       " 'euro2016',\n",
       " 'badday',\n",
       " 'coneofshame',\n",
       " 'cats',\n",
       " 'pissed',\n",
       " 'funny',\n",
       " 'laughs',\n",
       " 'wine',\n",
       " 'weekend',\n",
       " 'tgif',\n",
       " 'ff',\n",
       " 'gamedev',\n",
       " 'indiedev',\n",
       " 'indiegamedev',\n",
       " 'squad',\n",
       " 'upsideofflorida',\n",
       " 'shopalyssas',\n",
       " 'love',\n",
       " 'smiles',\n",
       " 'media',\n",
       " 'pressconference',\n",
       " 'antalya',\n",
       " 'turkey',\n",
       " 'throwback',\n",
       " 'ica16',\n",
       " 'rip',\n",
       " 'orlando',\n",
       " 'alohafriday',\n",
       " 'time',\n",
       " 'not',\n",
       " 'exist',\n",
       " 'positivevibes',\n",
       " 'hawaiian',\n",
       " 'goodnight',\n",
       " 'badmonday',\n",
       " 'taylorswift1989',\n",
       " 'travelingram',\n",
       " 'dalat',\n",
       " 'ripinkylife',\n",
       " 'photoshop',\n",
       " 'enoughisenough',\n",
       " 'dontphotoshopeverything',\n",
       " 'wheresallthenaturalphotos',\n",
       " 'cedarpoint',\n",
       " 'thankful',\n",
       " 'positive',\n",
       " 'bookworm',\n",
       " 'ontothenextnovel',\n",
       " 'flowers',\n",
       " 'grow',\n",
       " 'gardening',\n",
       " 'iphonesia',\n",
       " 'bliss',\n",
       " 'blooms',\n",
       " 'basilicabotanica',\n",
       " 'i_am',\n",
       " 'positive',\n",
       " 'affirmation',\n",
       " 'model',\n",
       " 'whenever',\n",
       " 'something',\n",
       " 'wrong',\n",
       " 'illustration',\n",
       " 'abc2020',\n",
       " 'pulseclub',\n",
       " 'prayfororlando',\n",
       " 'bihday',\n",
       " 'nose',\n",
       " 'job',\n",
       " 'bihday',\n",
       " 'petunia',\n",
       " 'albanpilgrimage',\n",
       " 'wedding',\n",
       " 'video',\n",
       " 'fathers',\n",
       " 'day',\n",
       " 'rayos',\n",
       " 'world',\n",
       " 'hotvideo',\n",
       " 'videos',\n",
       " 'ascot',\n",
       " 'fashion',\n",
       " 'monochrome',\n",
       " 'style',\n",
       " 'instahappyday',\n",
       " 'selfie',\n",
       " 'yolo',\n",
       " 'xoxo',\n",
       " 'like4like',\n",
       " 'work',\n",
       " 'mindset',\n",
       " 'christinarip',\n",
       " 'voice',\n",
       " 'christinagrimmie',\n",
       " 'roar',\n",
       " 'preschoolers',\n",
       " 'students',\n",
       " 'proudâ',\n",
       " 'chatiado',\n",
       " 'travel',\n",
       " 'yeah',\n",
       " 'thejourneybegins',\n",
       " 'helloâ',\n",
       " 'luv',\n",
       " 'hottweets',\n",
       " 'venusexchangeâ',\n",
       " 'aworks',\n",
       " 'solutions',\n",
       " 'orlando',\n",
       " 'disneygatorattack',\n",
       " 'proud',\n",
       " 'udtapunjab',\n",
       " 'amarinder',\n",
       " 'aap',\n",
       " 'senseaboutmaths',\n",
       " 'golfstrengthandconditioning',\n",
       " 'strong',\n",
       " 'felixfoisgolf',\n",
       " 'greathonour',\n",
       " 'careerconvos',\n",
       " 'innovative',\n",
       " 'wateringhole',\n",
       " 'cave',\n",
       " 'mountaintop',\n",
       " 'campfire',\n",
       " 'heal',\n",
       " 'altwaystoheal',\n",
       " 'healthy',\n",
       " 'peace',\n",
       " 'midweek',\n",
       " 'newmusic',\n",
       " 'watchthisspace',\n",
       " 'guitar',\n",
       " 'up',\n",
       " 'snapchat',\n",
       " 'redhead',\n",
       " 'vermillionred',\n",
       " 'people',\n",
       " 'goodtimes',\n",
       " 'history',\n",
       " 'summeime',\n",
       " 'memories',\n",
       " 'memories',\n",
       " 'model',\n",
       " 'hump',\n",
       " 'hump',\n",
       " 'humpersð',\n",
       " 'shop',\n",
       " 'cool',\n",
       " 'home',\n",
       " 'fun',\n",
       " 'nashvilletour2016',\n",
       " 'nashvilleforever',\n",
       " 'eur',\n",
       " 'blog',\n",
       " 'silver',\n",
       " 'gold',\n",
       " 'forex',\n",
       " 'thankful',\n",
       " 'positive',\n",
       " 'christinagrimmie',\n",
       " 'prayfororlando',\n",
       " 'eyelids',\n",
       " 'vigilfororlando',\n",
       " 'harp',\n",
       " 'clonakilty',\n",
       " 'rip',\n",
       " 'ihavenofriends',\n",
       " 'someonecomewithme',\n",
       " 'weekend',\n",
       " 'relax',\n",
       " 'icon',\n",
       " 'woman',\n",
       " 'sundaymorning',\n",
       " 'sunday',\n",
       " 'marilynmonroe',\n",
       " 'marvel',\n",
       " 'song',\n",
       " 'musica',\n",
       " 'weed',\n",
       " 'ripchristina',\n",
       " 'adele',\n",
       " 'dance',\n",
       " 'under',\n",
       " 'blog',\n",
       " 'silver',\n",
       " 'gold',\n",
       " 'forex',\n",
       " 'healthy',\n",
       " 'altwaystoheal',\n",
       " 'model',\n",
       " 'ofw',\n",
       " 'pinoy',\n",
       " 'followme',\n",
       " 'igers',\n",
       " 'instagood',\n",
       " 'smile',\n",
       " 'love',\n",
       " 'toradora',\n",
       " 'anime',\n",
       " 'animeedit',\n",
       " 'breakups',\n",
       " 'alone',\n",
       " 'lonely',\n",
       " 'cotd',\n",
       " 'football',\n",
       " 'snapchat',\n",
       " 'fringes',\n",
       " 'qcbags',\n",
       " 'summer',\n",
       " 'nochebuena',\n",
       " 'lasvegas',\n",
       " 'usa',\n",
       " 'instaboy',\n",
       " 'instaman',\n",
       " 'sefie',\n",
       " 'septum',\n",
       " 'friend',\n",
       " 'smiles',\n",
       " 'blackandwhite',\n",
       " 'haiku',\n",
       " '3lines',\n",
       " 'micropoetry',\n",
       " 'jewelrymaking',\n",
       " 'buttons',\n",
       " 'weston',\n",
       " 'eos',\n",
       " 'fun',\n",
       " 'cawaii',\n",
       " 'love',\n",
       " 'strawberry',\n",
       " 'tomato',\n",
       " 'me',\n",
       " 'boy',\n",
       " 'guy',\n",
       " 'social',\n",
       " 'analytics',\n",
       " 'photooftheday',\n",
       " 'igers',\n",
       " 'likes',\n",
       " 'doj',\n",
       " 'fbi',\n",
       " 'emailgate',\n",
       " 'hillary2016',\n",
       " 'shameful',\n",
       " 'disgraceful',\n",
       " 'ridiculous',\n",
       " 'stupidity',\n",
       " 'negligence',\n",
       " 'sachintendulkar',\n",
       " 'ã',\n",
       " '21thbihday',\n",
       " 'bestfriend',\n",
       " 'loveð',\n",
       " 'enjoy',\n",
       " 'pooh4u',\n",
       " 'chrisevans',\n",
       " 'bihdayâ',\n",
       " 'florida',\n",
       " 'newalbum',\n",
       " 'indie',\n",
       " 'guitars',\n",
       " 'echobelly',\n",
       " 'tgif',\n",
       " 'webmareting',\n",
       " 'seo',\n",
       " 'community',\n",
       " 'management',\n",
       " 'weekend',\n",
       " 'nzd',\n",
       " 'blog',\n",
       " 'silver',\n",
       " 'gold',\n",
       " 'forex',\n",
       " 'bihdayweeksucks',\n",
       " 'bithday27',\n",
       " 'tâ',\n",
       " 'disneysmagickingdom',\n",
       " 'disney',\n",
       " 'magickingdom',\n",
       " 'disneyland',\n",
       " 'orlandoâ',\n",
       " 'healthy',\n",
       " 'love',\n",
       " 'commitment',\n",
       " 'trust',\n",
       " 'faithful',\n",
       " 'newarkfestival',\n",
       " 'mochithepug',\n",
       " 'puglife',\n",
       " 'justalillate',\n",
       " 'butstillontime',\n",
       " 'goodmorning',\n",
       " 'friday',\n",
       " 'girls',\n",
       " 'love',\n",
       " 'florida',\n",
       " 'aap',\n",
       " 'punjabis',\n",
       " 'drugaddicts',\n",
       " 'tracerequest',\n",
       " 'touched',\n",
       " 'guy',\n",
       " 'mato',\n",
       " 'chapones',\n",
       " 'friends',\n",
       " 'model',\n",
       " 'bloke',\n",
       " 'vfest',\n",
       " 'summer',\n",
       " 'bihday',\n",
       " 'shane',\n",
       " 'watson',\n",
       " 'australia',\n",
       " 'cricker',\n",
       " 'whoknows',\n",
       " 'radio1',\n",
       " 'coldplay',\n",
       " 'gloucesterrugby',\n",
       " 'sad',\n",
       " 'together',\n",
       " 'alone',\n",
       " 'up',\n",
       " 'down',\n",
       " 'fine',\n",
       " 'dandy',\n",
       " 'lonely',\n",
       " 'exuberant',\n",
       " 'depressed',\n",
       " 'halffull',\n",
       " 'halfempty',\n",
       " 'mikeashley',\n",
       " 'sposdirectshame',\n",
       " 'workersrights',\n",
       " 'euref',\n",
       " 'remain',\n",
       " 'birds',\n",
       " 'stella',\n",
       " 'bad',\n",
       " 'princess',\n",
       " 'really',\n",
       " 'orlando',\n",
       " 'heabreaking',\n",
       " 'runbeck',\n",
       " 'happiness',\n",
       " 'quotes',\n",
       " 'inspirational',\n",
       " 'acne',\n",
       " 'altwaystoheal',\n",
       " 'healthy',\n",
       " 'healing',\n",
       " 'beats',\n",
       " 'makingbeats',\n",
       " 'thursday',\n",
       " 'work',\n",
       " 'istandard',\n",
       " 'akaiproâ',\n",
       " 'wedding',\n",
       " 'weddingpay',\n",
       " 'love',\n",
       " 'forever',\n",
       " 'weddingdressâ',\n",
       " 'cpd',\n",
       " 'onemoreday',\n",
       " 'twitch',\n",
       " 'stream',\n",
       " 'verbal',\n",
       " 'abuse',\n",
       " 'hu',\n",
       " 'love',\n",
       " 'adult',\n",
       " 'teen',\n",
       " 'thankful',\n",
       " 'positive',\n",
       " 'dejeuner',\n",
       " 'lunch',\n",
       " 'happiness',\n",
       " 'love',\n",
       " 'amoureuxâ',\n",
       " 'lawofattraction',\n",
       " 'quiz',\n",
       " 'love',\n",
       " 'happiness',\n",
       " 'motivation',\n",
       " 'success',\n",
       " 'joy',\n",
       " 'lifeâ',\n",
       " 'pole',\n",
       " 'bgp',\n",
       " 'rozthediva',\n",
       " 'blackgirlspole',\n",
       " 'bodyandpole',\n",
       " 'live',\n",
       " 'love',\n",
       " 'argentina2015',\n",
       " 'nohcarolina',\n",
       " 'building',\n",
       " 'ksleg',\n",
       " 'orlando',\n",
       " 'aly_alshahawy',\n",
       " 'ad',\n",
       " 'cute',\n",
       " 'summer',\n",
       " 'photographerdubai',\n",
       " 'sun',\n",
       " 'hair',\n",
       " 'mydubaiâ',\n",
       " 'i_am',\n",
       " 'positive',\n",
       " 'affirmation',\n",
       " 'thankful',\n",
       " 'positive',\n",
       " 'wimbledon2016',\n",
       " 'success',\n",
       " 'model',\n",
       " 'entrepreneur',\n",
       " 'speaker',\n",
       " 'ff',\n",
       " 'fresh',\n",
       " 'confident',\n",
       " 'fashionâ',\n",
       " 'gala',\n",
       " 'day',\n",
       " 'kid',\n",
       " 'bipolar',\n",
       " 'frikiegirl2016',\n",
       " 'amazing',\n",
       " 'dads',\n",
       " 'enjoy',\n",
       " 'magnettherapy',\n",
       " 'altwaystoheal',\n",
       " 'healing',\n",
       " 'healthy',\n",
       " 'smile',\n",
       " 'egsmile',\n",
       " 'torio',\n",
       " 'bus',\n",
       " 'alamindah',\n",
       " 'white',\n",
       " 'music',\n",
       " 'carrieunderwood',\n",
       " 'model',\n",
       " '5',\n",
       " 'propey',\n",
       " 'ocean',\n",
       " 'summer',\n",
       " 'life',\n",
       " 'family',\n",
       " 'quote',\n",
       " 'quotes',\n",
       " 'love',\n",
       " 'pakistan',\n",
       " 'allin216',\n",
       " 'girls',\n",
       " 'boys',\n",
       " 'fashion',\n",
       " 'feelings',\n",
       " 'thankful',\n",
       " 'positive',\n",
       " 'countdown',\n",
       " 'nolefam',\n",
       " '22092016',\n",
       " 'wakow',\n",
       " 'buzz',\n",
       " 'moment',\n",
       " 'ride',\n",
       " 'love',\n",
       " 'crush',\n",
       " 'dating',\n",
       " 'hookup',\n",
       " 'app',\n",
       " 'risay18',\n",
       " 'risaypls',\n",
       " 'thursday',\n",
       " 'i_am',\n",
       " 'positive',\n",
       " 'affirmation',\n",
       " 'thankful',\n",
       " 'blessed',\n",
       " 'jeffreycwilliams',\n",
       " 'buttrue',\n",
       " 'cute',\n",
       " 'smiles',\n",
       " 'babygirl',\n",
       " 'beautiful',\n",
       " 'niece',\n",
       " 'blessed',\n",
       " 'xo',\n",
       " 't',\n",
       " 'oneteamlincoln',\n",
       " 'rockthepark',\n",
       " 'timetogetmyjesuson',\n",
       " 'happiness',\n",
       " 'sanjapan',\n",
       " 'animeconvention',\n",
       " 'tech',\n",
       " 'announcements',\n",
       " 'moto_s',\n",
       " 'question',\n",
       " 'mondaymotivation',\n",
       " 'livelifetothefullest',\n",
       " 'healthy',\n",
       " 'everydaycounts',\n",
       " 'classmate',\n",
       " 'friends',\n",
       " 'brentwood',\n",
       " 'homesta',\n",
       " 'kitten',\n",
       " 'cat',\n",
       " 'blackkittenâ',\n",
       " 'pharrellwilliams',\n",
       " 'workâ',\n",
       " 'gutted',\n",
       " 'rosie',\n",
       " 'fever',\n",
       " 'mad',\n",
       " 'teeth',\n",
       " 'bite',\n",
       " 'pissed',\n",
       " 'dog',\n",
       " 'biting',\n",
       " 'dogbite',\n",
       " 'dogtreat',\n",
       " 'dreamcatcher',\n",
       " 'englishteacher',\n",
       " 'teacher',\n",
       " 'ecuador',\n",
       " 'strong',\n",
       " 'greatquotesâ',\n",
       " 'itako',\n",
       " 'alone',\n",
       " 'it',\n",
       " 'letthembelittle',\n",
       " 'childhoodunplugged',\n",
       " 'calm',\n",
       " 'sunny',\n",
       " 'chubbygirl',\n",
       " 'glasses',\n",
       " 'finnishgirl',\n",
       " 'finn',\n",
       " 'yuhuuuuu',\n",
       " 'tmaâ',\n",
       " 'nationalbestfriendsday',\n",
       " 'true',\n",
       " 'ugh',\n",
       " 'model',\n",
       " 'game',\n",
       " 'gaming',\n",
       " 'girlgamer',\n",
       " 'voez',\n",
       " 'weekend',\n",
       " 'beyou',\n",
       " 'ofbham',\n",
       " 'fathersday',\n",
       " 'love',\n",
       " 'æ',\n",
       " 'positivevibes',\n",
       " 'fresh',\n",
       " 'conjuring2',\n",
       " 'readyornot',\n",
       " 'truestory',\n",
       " 'iwearbanana',\n",
       " 'scared',\n",
       " 'redditchbizhour',\n",
       " 'smiles',\n",
       " 'corbinrayp',\n",
       " 'scared',\n",
       " 'missyou',\n",
       " 'whatwasthat',\n",
       " 'mondaymorning',\n",
       " 'mondaymotivation',\n",
       " 'monday',\n",
       " 'indraloka',\n",
       " 'sanasafinaz',\n",
       " 'noexchangepolicy',\n",
       " 'ending',\n",
       " 'littlebear',\n",
       " 'joy',\n",
       " 'toddlerfriends',\n",
       " 'puresweetness',\n",
       " 'latergram',\n",
       " 'toddlerfun',\n",
       " 'orlando',\n",
       " 'pharrell',\n",
       " 'real',\n",
       " 'tru',\n",
       " 'slut',\n",
       " 'snapshot',\n",
       " 'hot',\n",
       " 'nasty',\n",
       " 'naughty',\n",
       " 'sexy',\n",
       " 'horny',\n",
       " 'shy',\n",
       " 'porn',\n",
       " 'nude',\n",
       " 'kinky',\n",
       " 'xxx',\n",
       " 'y',\n",
       " 'thankfulthursday',\n",
       " 'i_am',\n",
       " 'positive',\n",
       " 'affirmation',\n",
       " 'canadianravers',\n",
       " 'michaelkors',\n",
       " 'luckygirl',\n",
       " 'bihday',\n",
       " 'liverpool',\n",
       " 'freakshake',\n",
       " 'freaks',\n",
       " 'yum',\n",
       " 'dalston',\n",
       " 'thankful',\n",
       " 'positive',\n",
       " 'vegan',\n",
       " 'organic',\n",
       " 'fresh',\n",
       " 'fruit',\n",
       " 'organic',\n",
       " 'healthy',\n",
       " 'healthyliving',\n",
       " 'life',\n",
       " 'sad',\n",
       " 'blackpool',\n",
       " 'fathersday',\n",
       " 'newblood16',\n",
       " 'funeral',\n",
       " 'usa',\n",
       " 'stephcurry',\n",
       " 'nbafinals',\n",
       " 'grateful',\n",
       " 'affirmations',\n",
       " 'missyou',\n",
       " 'mybrotherskeeper',\n",
       " 'friday',\n",
       " 'weird',\n",
       " 'directioner',\n",
       " 'niall',\n",
       " 'nialhoranfacts',\n",
       " 'niallerwins',\n",
       " 'hot',\n",
       " 'justindrewbieber',\n",
       " 'justindb',\n",
       " 'believetou',\n",
       " 'father',\n",
       " 'sanya',\n",
       " 'whererefreshingbegins',\n",
       " 'lifeaftersurgery',\n",
       " 'dog',\n",
       " 'dogslife',\n",
       " 'labrador',\n",
       " 'labradorretriever',\n",
       " 'lifeofsam',\n",
       " 'glastofest',\n",
       " 'mep',\n",
       " 'webseries',\n",
       " 'model',\n",
       " 'juneteenth',\n",
       " 'independenceday',\n",
       " 'food4thought',\n",
       " 'rich',\n",
       " 'ancestral',\n",
       " 'heritage',\n",
       " 'river',\n",
       " 'pathetic',\n",
       " 'ripgop',\n",
       " 'smile',\n",
       " 'instalike',\n",
       " 'instamood',\n",
       " 'instapic',\n",
       " 'graffiti',\n",
       " 'dublin',\n",
       " 'ireland',\n",
       " 'music',\n",
       " 'vimeo',\n",
       " 'movie',\n",
       " 'video',\n",
       " 'europe',\n",
       " 'people',\n",
       " 'flow',\n",
       " 'fun',\n",
       " 'rafalwojcicki',\n",
       " 'oitnbseason4',\n",
       " 'iampossible',\n",
       " 'extraordinaryladyspeaks',\n",
       " 'starawards',\n",
       " 'breakfast',\n",
       " 'sun',\n",
       " 'day',\n",
       " 'sunnyday',\n",
       " 'sun',\n",
       " 'blueâ',\n",
       " 'yellowjackets',\n",
       " 'neshl',\n",
       " 'bhl',\n",
       " 'hockey',\n",
       " 'tonyawards',\n",
       " 'fathers',\n",
       " 'day',\n",
       " '2016',\n",
       " 'country',\n",
       " 'rock',\n",
       " 'bluegrass',\n",
       " 'beatles',\n",
       " 'love',\n",
       " 'pop',\n",
       " 'romance',\n",
       " 'projects',\n",
       " 'blog',\n",
       " 'silver',\n",
       " 'gold',\n",
       " 'forex',\n",
       " '300dayshappy',\n",
       " 'dayseventyseven',\n",
       " 'day77',\n",
       " 'happiness',\n",
       " 'love',\n",
       " 'lifequotes',\n",
       " 'lifeâ',\n",
       " 'bihday',\n",
       " 'thankful',\n",
       " 'positive',\n",
       " 'quiet',\n",
       " 'july4th',\n",
       " 'fireworks',\n",
       " 'paratyphoid',\n",
       " 'thevoice',\n",
       " 'stopthehate',\n",
       " 'ripchristina',\n",
       " 'up',\n",
       " 'enjoy',\n",
       " 'music',\n",
       " 'today',\n",
       " 'free',\n",
       " 'apps',\n",
       " 'free',\n",
       " 'music',\n",
       " 'lawofattraction',\n",
       " 'resources',\n",
       " 'healing',\n",
       " 'altwaystoheal',\n",
       " 'healthy',\n",
       " 'idwp',\n",
       " 'music',\n",
       " 'therapy',\n",
       " 'healing',\n",
       " 'altwaystoheal',\n",
       " 'healthy',\n",
       " 'salud',\n",
       " 'cheers',\n",
       " 'smile',\n",
       " 'nofilter',\n",
       " 'overwhelmed',\n",
       " 'happy',\n",
       " 'buffalo',\n",
       " 'thebachelorette',\n",
       " 'empty',\n",
       " 'nowine',\n",
       " 'good',\n",
       " 'faith',\n",
       " 'vaitacacommafiasdv',\n",
       " 'love',\n",
       " 'success',\n",
       " 'work',\n",
       " 'businessâ',\n",
       " 'torrington',\n",
       " 'lunch',\n",
       " 'afterschool',\n",
       " 'instadaily',\n",
       " 'yummy',\n",
       " 'withmom',\n",
       " 'cycling',\n",
       " 'sunset',\n",
       " 'ride',\n",
       " 'bikes',\n",
       " 'fitness',\n",
       " 'cardio',\n",
       " 'deseâ',\n",
       " 'tagsforlikes',\n",
       " 'me',\n",
       " 'food',\n",
       " 'friends',\n",
       " 'summer',\n",
       " 'swag',\n",
       " 'quotes',\n",
       " 'love',\n",
       " 'god',\n",
       " 'girl',\n",
       " 'weekend',\n",
       " 'polaroid',\n",
       " 'followme',\n",
       " 'teen',\n",
       " 'win',\n",
       " 'job',\n",
       " 'payintheusa',\n",
       " 'stellar',\n",
       " 'girls',\n",
       " 'dreamy',\n",
       " 'goodmorning',\n",
       " 'yay',\n",
       " 'wednesdaywisdom',\n",
       " 'forever',\n",
       " 'bee',\n",
       " 'beautiful',\n",
       " 'smooth',\n",
       " 'lifestyle',\n",
       " 'skin',\n",
       " 'instasize',\n",
       " 'f4f',\n",
       " 'fashion',\n",
       " 'lawofattraction',\n",
       " 'healing',\n",
       " 'loa',\n",
       " 'healthy',\n",
       " 'well',\n",
       " 'idwp',\n",
       " 'oil',\n",
       " 'blog',\n",
       " 'silver',\n",
       " 'gold',\n",
       " 'forex',\n",
       " 'newblood',\n",
       " 'first',\n",
       " 'bihday',\n",
       " 'puppy',\n",
       " 'eloise',\n",
       " 'sweetbabins',\n",
       " 'dog',\n",
       " 'growingup',\n",
       " 'cute',\n",
       " 'bihdaygirl',\n",
       " 'prayfororlando',\n",
       " 'guncontrol',\n",
       " 'smile',\n",
       " 'lovethemâ',\n",
       " 'ombre',\n",
       " 'blue',\n",
       " 'warcraft',\n",
       " 'family',\n",
       " 'fun',\n",
       " 'lover',\n",
       " 'friend',\n",
       " 'astrologer',\n",
       " 'love',\n",
       " 'sdl326am',\n",
       " 'summev',\n",
       " 'zoo',\n",
       " 'heal',\n",
       " 'altwaystoheal',\n",
       " 'healthy',\n",
       " 'roar',\n",
       " 'tiger',\n",
       " 'annaswelshzoo',\n",
       " 'bihdaycelebrations',\n",
       " 'laugh',\n",
       " 'xtra',\n",
       " 'positivevibes',\n",
       " 'sunshine',\n",
       " 'sunday',\n",
       " 'masterkeyexperience',\n",
       " 'face',\n",
       " 'pizza',\n",
       " 'sisteradventures',\n",
       " 'sister',\n",
       " 'ilovemysisterâ',\n",
       " 'usn',\n",
       " 'navy',\n",
       " 'euros',\n",
       " 'happiness',\n",
       " 'minions',\n",
       " 'bethesda',\n",
       " 'e3',\n",
       " 'e32016',\n",
       " 'tiggy',\n",
       " 'jax',\n",
       " 'soa',\n",
       " 'throwbackthursday',\n",
       " 'eurogamer',\n",
       " 'pumped',\n",
       " 'eurogamer2016',\n",
       " 'staytuned',\n",
       " 'tapfoags',\n",
       " 'sun',\n",
       " 'love',\n",
       " 'outdoors',\n",
       " 'picnic',\n",
       " 'summer',\n",
       " 'family',\n",
       " 'daughter',\n",
       " 'father',\n",
       " 'desse',\n",
       " 'icecream',\n",
       " 'retailtherapy',\n",
       " 'riverisland',\n",
       " 'shoppingqueen',\n",
       " 'alwayscheersyouup',\n",
       " 'cleaning',\n",
       " 'laundryday',\n",
       " 'ebay',\n",
       " 'woohoo',\n",
       " 'sell',\n",
       " 'selling',\n",
       " 'buy',\n",
       " 'shop',\n",
       " 'shopping',\n",
       " 'thankful',\n",
       " 'positive',\n",
       " 'chilled',\n",
       " 'instagood',\n",
       " 'ì',\n",
       " 'å',\n",
       " 'idola',\n",
       " 'idol',\n",
       " 'à¹',\n",
       " 'followme',\n",
       " 'selfie',\n",
       " 'ã',\n",
       " 'christinagrimmie',\n",
       " 'orlando',\n",
       " 'america',\n",
       " 'brexit',\n",
       " 'blog',\n",
       " 'silver',\n",
       " 'gold',\n",
       " 'â',\n",
       " 'eacbpm',\n",
       " 'busy',\n",
       " 'alohabeachbus',\n",
       " 'hawaii',\n",
       " 'explore',\n",
       " 'great',\n",
       " 'birds',\n",
       " 'download',\n",
       " 'film',\n",
       " 'il',\n",
       " 'ita',\n",
       " 'sunday',\n",
       " 'photo',\n",
       " 'model',\n",
       " 'urbex',\n",
       " 'topless',\n",
       " 'tits',\n",
       " 'mono',\n",
       " 'retweet',\n",
       " 'sexy',\n",
       " 'heels',\n",
       " 'ace',\n",
       " 'shegotmarried',\n",
       " 'model',\n",
       " 'soccer',\n",
       " 'spring',\n",
       " 'season',\n",
       " 'sun',\n",
       " 'fun',\n",
       " 'beachpark',\n",
       " 'euros2016',\n",
       " ...]"
      ]
     },
     "execution_count": 39,
     "metadata": {
      "tags": []
     },
     "output_type": "execute_result"
    }
   ],
   "source": [
    "HT_regular "
   ]
  },
  {
   "cell_type": "code",
   "execution_count": 40,
   "metadata": {
    "id": "9BMz-hyFS39C"
   },
   "outputs": [],
   "source": [
    "HT_negative = sum(HT_negative,[])"
   ]
  },
  {
   "cell_type": "code",
   "execution_count": 41,
   "metadata": {
    "colab": {
     "base_uri": "https://localhost:8080/",
     "height": 336
    },
    "id": "HB0dL4HzS39C",
    "outputId": "9b105d1e-21c6-4c43-ca74-47c6429f72df"
   },
   "outputs": [
    {
     "data": {
      "image/png": "[encoded data removed]",
      "text/plain": [
       "<Figure size 1152x360 with 1 Axes>"
      ]
     },
     "metadata": {
      "needs_background": "light",
      "tags": []
     },
     "output_type": "display_data"
    }
   ],
   "source": [
    "a = nltk.FreqDist(HT_regular)\n",
    "d = pd.DataFrame({'Hashtag': list(a.keys()),\n",
    "                  'Count': list(a.values())})\n",
    "# selecting top 10 most frequent hashtags     \n",
    "d = d.nlargest(columns=\"Count\", n = 10) \n",
    "plt.figure(figsize=(16,5))\n",
    "ax = sns.barplot(data=d, x= \"Hashtag\", y = \"Count\")\n",
    "ax.set(ylabel = 'Count')\n",
    "plt.show()\n"
   ]
  },
  {
   "cell_type": "code",
   "execution_count": 42,
   "metadata": {
    "colab": {
     "base_uri": "https://localhost:8080/",
     "height": 333
    },
    "id": "ViYD37BOS39D",
    "outputId": "10769469-dd3b-4ea9-8bc2-6d9006f4e02d"
   },
   "outputs": [
    {
     "data": {
      "image/png": "[encoded data removed]",
      "text/plain": [
       "<Figure size 1152x360 with 1 Axes>"
      ]
     },
     "metadata": {
      "needs_background": "light",
      "tags": []
     },
     "output_type": "display_data"
    }
   ],
   "source": [
    "b = nltk.FreqDist(HT_negative)\n",
    "e = pd.DataFrame({'Hashtag': list(b.keys()), 'Count': list(b.values())})\n",
    "# selecting top 10 most frequent hashtags\n",
    "e = e.nlargest(columns=\"Count\", n = 10)   \n",
    "plt.figure(figsize=(16,5))\n",
    "ax = sns.barplot(data=e, x= \"Hashtag\", y = \"Count\")\n",
    "ax.set(ylabel = 'Count')\n",
    "plt.show()\n"
   ]
  },
  {
   "cell_type": "code",
   "execution_count": 43,
   "metadata": {
    "id": "O_422SApS39D"
   },
   "outputs": [],
   "source": [
    "test_file_tweet=test['tidy_tweet']"
   ]
  },
  {
   "cell_type": "code",
   "execution_count": 44,
   "metadata": {
    "colab": {
     "base_uri": "https://localhost:8080/"
    },
    "id": "tDfKoMgWS39D",
    "outputId": "a4ac47e7-2990-472a-a34a-96407815e0cd"
   },
   "outputs": [
    {
     "data": {
      "text/plain": [
       "0                               #studiolife #aislife #requires #passion #dedication #willpower find #newmaterials\n",
       "1                                                                #white #supremacists want everyone #birds #movie\n",
       "2                                                           safe ways heal #acne #altwaystoheal #healthy #healing\n",
       "3                                        curse child book reservations already #harrypotter #pottermore #favorite\n",
       "4                                                      #bihday amaze hilarious #nephew ahmir uncle dave love miss\n",
       "                                                           ...                                                   \n",
       "17192               think factory leave right polarisation #trump #uselections #leadership #politics #brexit #blm\n",
       "17193                            feel like mermaid #hairflip #neverready #formal #wedding #gown #dresses #mermaid\n",
       "17194    #hillary #campaigned today #ohio use word like assets liability never #clinton thee word #radicalization\n",
       "17195                   happy work conference right mindset lead culture development organizations #work #mindset\n",
       "17196                                                        song glad free download #shoegaze #newmusic #newsong\n",
       "Name: tidy_tweet, Length: 17197, dtype: object"
      ]
     },
     "execution_count": 44,
     "metadata": {
      "tags": []
     },
     "output_type": "execute_result"
    }
   ],
   "source": [
    "test_file_tweet"
   ]
  },
  {
   "cell_type": "code",
   "execution_count": 45,
   "metadata": {
    "id": "IS_otYJDS39E"
   },
   "outputs": [],
   "source": [
    "X_test_tfidf = tfidf_vectorizer.transform(test_file_tweet)\n"
   ]
  },
  {
   "cell_type": "code",
   "execution_count": 46,
   "metadata": {
    "colab": {
     "base_uri": "https://localhost:8080/"
    },
    "id": "avnUN9wUS39F",
    "outputId": "8d178957-d6d4-43a3-a4f5-83c8be0a3625"
   },
   "outputs": [
    {
     "name": "stdout",
     "output_type": "stream",
     "text": [
      "(17197, 1000)\n",
      "<class 'scipy.sparse.csr.csr_matrix'>\n"
     ]
    }
   ],
   "source": [
    "print(X_test_tfidf.shape)\n",
    "print(type(X_test_tfidf))\n",
    "X_test = X_test_tfidf.toarray()\n"
   ]
  },
  {
   "cell_type": "code",
   "execution_count": 47,
   "metadata": {
    "colab": {
     "base_uri": "https://localhost:8080/"
    },
    "id": "9pRlrKy6S39G",
    "outputId": "e3e67846-010f-47d0-8f68-fa2d9b449996"
   },
   "outputs": [
    {
     "name": "stdout",
     "output_type": "stream",
     "text": [
      "<class 'numpy.ndarray'>\n"
     ]
    }
   ],
   "source": [
    "\n",
    "print(type(X_test))\n"
   ]
  },
  {
   "cell_type": "markdown",
   "metadata": {
    "id": "RGmmkR0-S39G"
   },
   "source": [
    "# Splitting the training data into training and validation"
   ]
  },
  {
   "cell_type": "code",
   "execution_count": 48,
   "metadata": {
    "id": "sBfVM16MS39G"
   },
   "outputs": [],
   "source": [
    "bow=tfidf_train[:31962,:]"
   ]
  },
  {
   "cell_type": "code",
   "execution_count": 49,
   "metadata": {
    "id": "rgemXajfS39H"
   },
   "outputs": [],
   "source": [
    "\n",
    "from sklearn.model_selection import train_test_split\n"
   ]
  },
  {
   "cell_type": "code",
   "execution_count": 50,
   "metadata": {
    "id": "ru3Q6dDPS39H"
   },
   "outputs": [],
   "source": [
    "X_train,X_valid,Y_train,Y_valid = train_test_split(bow,train['label'],train_size=0.7,random_state=42)"
   ]
  },
  {
   "cell_type": "code",
   "execution_count": 51,
   "metadata": {
    "colab": {
     "base_uri": "https://localhost:8080/"
    },
    "id": "5LupjTOCS39I",
    "outputId": "2888705d-c631-4328-e9b4-889410fc6e45"
   },
   "outputs": [
    {
     "name": "stdout",
     "output_type": "stream",
     "text": [
      "(22373, 1000)\n",
      "<class 'scipy.sparse.csr.csr_matrix'>\n",
      "(9589, 1000)\n",
      "<class 'pandas.core.series.Series'>\n"
     ]
    }
   ],
   "source": [
    "print(X_train.shape)\n",
    "print(type(X_train))\n",
    "print(X_valid.shape)\n",
    "print(type(Y_train))"
   ]
  },
  {
   "cell_type": "code",
   "execution_count": 52,
   "metadata": {
    "colab": {
     "base_uri": "https://localhost:8080/"
    },
    "id": "IV744yBQS39J",
    "outputId": "f92a50c8-4106-4f5e-e3a3-60be98a6cef7"
   },
   "outputs": [
    {
     "data": {
      "text/plain": [
       "(31962, 1000)"
      ]
     },
     "execution_count": 52,
     "metadata": {
      "tags": []
     },
     "output_type": "execute_result"
    }
   ],
   "source": [
    "bow.shape"
   ]
  },
  {
   "cell_type": "code",
   "execution_count": 53,
   "metadata": {
    "id": "ubDPo8dRS39J"
   },
   "outputs": [],
   "source": [
    "## changng the datatype of X_train from sparse to numpy \n",
    "X_train=X_train.toarray()\n"
   ]
  },
  {
   "cell_type": "code",
   "execution_count": 54,
   "metadata": {
    "colab": {
     "base_uri": "https://localhost:8080/"
    },
    "id": "-QAaTS0eS39K",
    "outputId": "1f85f460-a339-437b-a501-23d82cd64d88"
   },
   "outputs": [
    {
     "data": {
      "text/plain": [
       "numpy.ndarray"
      ]
     },
     "execution_count": 54,
     "metadata": {
      "tags": []
     },
     "output_type": "execute_result"
    }
   ],
   "source": [
    "type(X_train)"
   ]
  },
  {
   "cell_type": "code",
   "execution_count": 55,
   "metadata": {
    "id": "kiyzDb2US39K"
   },
   "outputs": [],
   "source": [
    "X_valid=X_valid.toarray()"
   ]
  },
  {
   "cell_type": "code",
   "execution_count": 56,
   "metadata": {
    "colab": {
     "base_uri": "https://localhost:8080/"
    },
    "id": "7nKq6Z4DS39K",
    "outputId": "b0e132e8-2a1b-4fab-c1de-35b3f99a02f1"
   },
   "outputs": [
    {
     "data": {
      "text/plain": [
       "numpy.ndarray"
      ]
     },
     "execution_count": 56,
     "metadata": {
      "tags": []
     },
     "output_type": "execute_result"
    }
   ],
   "source": [
    "type(X_valid)"
   ]
  },
  {
   "cell_type": "markdown",
   "metadata": {
    "id": "ZjseXBqSS39L"
   },
   "source": [
    "## Building the Random Forest Model"
   ]
  },
  {
   "cell_type": "code",
   "execution_count": 57,
   "metadata": {
    "id": "51XteWDuS39L"
   },
   "outputs": [],
   "source": [
    "from sklearn.ensemble import RandomForestClassifier\n",
    "from sklearn.metrics import roc_auc_score\n",
    "from sklearn.model_selection import GridSearchCV"
   ]
  },
  {
   "cell_type": "code",
   "execution_count": 58,
   "metadata": {
    "id": "FUCAQRb1S39L"
   },
   "outputs": [],
   "source": [
    "model_parameters = {\n",
    "        'n_estimators':[50, 100],\n",
    "        'criterion':['gini', 'entropy'],\n",
    "        'max_depth': [3,5, 7]\n",
    "    }"
   ]
  },
  {
   "cell_type": "code",
   "execution_count": 59,
   "metadata": {
    "colab": {
     "base_uri": "https://localhost:8080/"
    },
    "id": "GDJ0VSfvS39M",
    "outputId": "00ffc2c7-8340-44e8-ca86-5b0e3a6e68e8"
   },
   "outputs": [
    {
     "name": "stdout",
     "output_type": "stream",
     "text": [
      "Fitting 5 folds for each of 12 candidates, totalling 60 fits\n"
     ]
    },
    {
     "name": "stderr",
     "output_type": "stream",
     "text": [
      "[Parallel(n_jobs=-1)]: Using backend LokyBackend with 2 concurrent workers.\n",
      "[Parallel(n_jobs=-1)]: Done  46 tasks      | elapsed:  1.4min\n",
      "[Parallel(n_jobs=-1)]: Done  60 out of  60 | elapsed:  2.0min finished\n"
     ]
    },
    {
     "data": {
      "text/plain": [
       "GridSearchCV(cv=5, error_score=nan,\n",
       "             estimator=RandomForestClassifier(bootstrap=True, ccp_alpha=0.0,\n",
       "                                              class_weight=None,\n",
       "                                              criterion='gini', max_depth=None,\n",
       "                                              max_features='auto',\n",
       "                                              max_leaf_nodes=None,\n",
       "                                              max_samples=None,\n",
       "                                              min_impurity_decrease=0.0,\n",
       "                                              min_impurity_split=None,\n",
       "                                              min_samples_leaf=1,\n",
       "                                              min_samples_split=2,\n",
       "                                              min_weight_fraction_leaf=0.0,\n",
       "                                              n_estimators=100, n_jobs=None,\n",
       "                                              oob_score=False, random_state=1,\n",
       "                                              verbose=0, warm_start=False),\n",
       "             iid='deprecated', n_jobs=-1,\n",
       "             param_grid={'criterion': ['gini', 'entropy'],\n",
       "                         'max_depth': [3, 5, 7], 'n_estimators': [50, 100]},\n",
       "             pre_dispatch='2*n_jobs', refit=True, return_train_score=False,\n",
       "             scoring='roc_auc', verbose=1)"
      ]
     },
     "execution_count": 59,
     "metadata": {
      "tags": []
     },
     "output_type": "execute_result"
    }
   ],
   "source": [
    "model = RandomForestClassifier(random_state=1)\n",
    "gscv = GridSearchCV(estimator=model, \n",
    "                    param_grid=model_parameters, \n",
    "                    cv=5, \n",
    "                    verbose=1, \n",
    "                    n_jobs=-1,\n",
    "                    scoring='roc_auc')\n",
    "\n",
    "gscv.fit(X_train, Y_train)"
   ]
  },
  {
   "cell_type": "code",
   "execution_count": 60,
   "metadata": {
    "colab": {
     "base_uri": "https://localhost:8080/"
    },
    "id": "1WxOECcdS39M",
    "outputId": "12f876f7-c3ff-418a-f711-9895e3118965"
   },
   "outputs": [
    {
     "name": "stdout",
     "output_type": "stream",
     "text": [
      "The best parameter are - {'criterion': 'entropy', 'max_depth': 7, 'n_estimators': 100}\n"
     ]
    }
   ],
   "source": [
    "print('The best parameter are -', gscv.best_params_)"
   ]
  },
  {
   "cell_type": "code",
   "execution_count": 61,
   "metadata": {
    "colab": {
     "base_uri": "https://localhost:8080/"
    },
    "id": "QZu25LDYS39N",
    "outputId": "59c87c2a-2108-4538-9064-ee5f7bb82fad"
   },
   "outputs": [
    {
     "name": "stdout",
     "output_type": "stream",
     "text": [
      "0.8675745113280691\n",
      "RandomForestClassifier(bootstrap=True, ccp_alpha=0.0, class_weight=None,\n",
      "                       criterion='entropy', max_depth=7, max_features='auto',\n",
      "                       max_leaf_nodes=None, max_samples=None,\n",
      "                       min_impurity_decrease=0.0, min_impurity_split=None,\n",
      "                       min_samples_leaf=1, min_samples_split=2,\n",
      "                       min_weight_fraction_leaf=0.0, n_estimators=100,\n",
      "                       n_jobs=None, oob_score=False, random_state=1, verbose=0,\n",
      "                       warm_start=False)\n",
      "make_scorer(roc_auc_score, needs_threshold=True)\n"
     ]
    }
   ],
   "source": [
    "print(gscv.best_score_)\n",
    "print(gscv.best_estimator_)\n",
    "print(gscv.scorer_)"
   ]
  },
  {
   "cell_type": "code",
   "execution_count": 63,
   "metadata": {
    "colab": {
     "base_uri": "https://localhost:8080/"
    },
    "id": "1zjAskQWS39N",
    "outputId": "d7e48b92-8858-4a92-8524-113f58cd126b"
   },
   "outputs": [
    {
     "name": "stdout",
     "output_type": "stream",
     "text": [
      "AUC on test by gscv = 0.8653654888672175\n"
     ]
    }
   ],
   "source": [
    "print('AUC on test by gscv =', roc_auc_score(y_true=Y_valid,\n",
    "                                                        y_score=gscv.predict_proba(X_valid)[:, 1]))"
   ]
  },
  {
   "cell_type": "code",
   "execution_count": 68,
   "metadata": {
    "id": "g5_VEOs9zhoI"
   },
   "outputs": [],
   "source": [
    " y_score=gscv.predict(X_test)\n"
   ]
  },
  {
   "cell_type": "code",
   "execution_count": 69,
   "metadata": {
    "colab": {
     "base_uri": "https://localhost:8080/"
    },
    "id": "b48zFGLL6IdR",
    "outputId": "b7100c9e-fa1d-417d-db9b-354759a30e3d"
   },
   "outputs": [
    {
     "data": {
      "text/plain": [
       "array([0, 0, 0, ..., 0, 0, 0])"
      ]
     },
     "execution_count": 69,
     "metadata": {
      "tags": []
     },
     "output_type": "execute_result"
    }
   ],
   "source": [
    "y_score"
   ]
  },
  {
   "cell_type": "code",
   "execution_count": null,
   "metadata": {
    "id": "9I_Wb78F6J6y"
   },
   "outputs": [],
   "source": []
  }
 ],
 "metadata": {
  "colab": {
   "collapsed_sections": [],
   "name": "twitter_sentiment_analysis_2.ipynb",
   "provenance": [],
   "toc_visible": true
  },
  "kernelspec": {
   "display_name": "Python 3",
   "language": "python",
   "name": "python3"
  },
  "language_info": {
   "codemirror_mode": {
    "name": "ipython",
    "version": 3
   },
   "file_extension": ".py",
   "mimetype": "text/x-python",
   "name": "python",
   "nbconvert_exporter": "python",
   "pygments_lexer": "ipython3",
   "version": "3.8.5"
  }
 },
 "nbformat": 4,
 "nbformat_minor": 1
}
